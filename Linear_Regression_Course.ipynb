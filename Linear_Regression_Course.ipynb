{
  "nbformat": 4,
  "nbformat_minor": 0,
  "metadata": {
    "colab": {
      "provenance": [],
      "authorship_tag": "ABX9TyPlFGq9nVNAnd4aF20MYSYa",
      "include_colab_link": true
    },
    "kernelspec": {
      "name": "python3",
      "display_name": "Python 3"
    },
    "language_info": {
      "name": "python"
    }
  },
  "cells": [
    {
      "cell_type": "markdown",
      "metadata": {
        "id": "view-in-github",
        "colab_type": "text"
      },
      "source": [
        "<a href=\"https://colab.research.google.com/github/Hamza-t/Linear-Regression/blob/main/Linear_Regression_Course.ipynb\" target=\"_parent\"><img src=\"https://colab.research.google.com/assets/colab-badge.svg\" alt=\"Open In Colab\"/></a>"
      ]
    },
    {
      "cell_type": "markdown",
      "metadata": {
        "id": "xLk307PaXpRe"
      },
      "source": [
        "**Hello everyone , here i'm beginning my journey in regression algorithms ! Hope that u find this notebook useful** "
      ]
    },
    {
      "cell_type": "markdown",
      "metadata": {
        "id": "QfEywUDrXpWs"
      },
      "source": [
        "Linear Regression is the simplest algorithm in machine learning, it can be trained in different ways. In this notebook we will cover the following linear algorithms:\n",
        "* Linear Regression\n",
        "* Robust Regression\n",
        "* Ridge Regression\n",
        "* LASSO Regression\n",
        "* Bayesian Regression\n",
        "* Poisson Regression\n",
        "* Elastic Net\n",
        "* Polynomial Regression\n",
        "* Stochastic Gradient Descent\n"
      ]
    },
    {
      "cell_type": "markdown",
      "metadata": {
        "id": "s5b7LauQXpZR"
      },
      "source": [
        "##Linear Regression"
      ]
    },
    {
      "cell_type": "markdown",
      "metadata": {
        "id": "OItzuRF1YiL3"
      },
      "source": [
        "Linear regression is a basic and commonly used type of predictive analysis.  The overall idea of regression is to examine two things: (1) does a set of predictor variables do a good job in predicting an outcome (dependent) variable?  (2) Which variables in particular are significant predictors of the outcome variable, and in what way do they–indicated by the magnitude and sign of the beta estimates–impact the outcome variable?  These regression estimates are used to explain the relationship between one dependent variable and one or more independent variables.  The simplest form of the regression equation with one dependent and one independent variable is defined by the formula y = c + b*x, where y = estimated dependent variable score, c = constant, b = regression coefficient, and x = score on the independent variable."
      ]
    },
    {
      "cell_type": "markdown",
      "metadata": {
        "id": "nEL2btUCYiPb"
      },
      "source": [
        "###Implementation"
      ]
    },
    {
      "cell_type": "code",
      "metadata": {
        "id": "zuINO4ghZsCQ"
      },
      "source": [
        "import matplotlib.pyplot as plt\n",
        "import seaborn as sns\n",
        "from sklearn import datasets\n",
        "boston = datasets.load_boston()\n",
        "X_train = boston['data']\n",
        "y_train = boston['target']"
      ],
      "execution_count": null,
      "outputs": []
    },
    {
      "cell_type": "code",
      "metadata": {
        "colab": {
          "base_uri": "https://localhost:8080/",
          "height": 369
        },
        "id": "5pqoDkIdZsFt",
        "outputId": "c5d7bed2-dda5-4e0b-a3a7-365613c8dfc9"
      },
      "source": [
        "# With Scikit-Learn\n",
        "from sklearn.linear_model import LinearRegression\n",
        "sklearn_model = LinearRegression()\n",
        "sklearn_model.fit(X_train, y_train);\n",
        "sklearn_predictions = sklearn_model.predict(X_train)\n",
        "fig, ax = plt.subplots()\n",
        "sns.scatterplot(y_train, sklearn_predictions)\n",
        "ax.set_xlabel(r'$y$', size = 16)\n",
        "ax.set_ylabel(r'$\\hat{y}$', rotation = 0, size = 16, labelpad = 15)\n",
        "ax.set_title(r'$y$ vs. $\\hat{y}$', size = 20, pad = 10)\n",
        "sns.despine()"
      ],
      "execution_count": null,
      "outputs": [
        {
          "output_type": "stream",
          "name": "stderr",
          "text": [
            "/usr/local/lib/python3.7/dist-packages/seaborn/_decorators.py:43: FutureWarning: Pass the following variables as keyword args: x, y. From version 0.12, the only valid positional argument will be `data`, and passing other arguments without an explicit keyword will result in an error or misinterpretation.\n",
            "  FutureWarning\n"
          ]
        },
        {
          "output_type": "display_data",
          "data": {
            "image/png": "[encoded data removed]",
            "text/plain": [
              "<Figure size 432x288 with 1 Axes>"
            ]
          },
          "metadata": {
            "needs_background": "light"
          }
        }
      ]
    },
    {
      "cell_type": "code",
      "metadata": {
        "id": "SMhssR6gaJ4E"
      },
      "source": [
        "# With Statsmodels\n",
        "import statsmodels.api as sm\n",
        "\n",
        "X_train_with_constant = sm.add_constant(X_train)\n",
        "sm_model1 = sm.OLS(y_train, X_train_with_constant)\n",
        "sm_fit1 = sm_model1.fit()\n",
        "sm_predictions1 = sm_fit1.predict(X_train_with_constant)\n"
      ],
      "execution_count": null,
      "outputs": []
    },
    {
      "cell_type": "code",
      "metadata": {
        "id": "vNt3lWNjaJ7d"
      },
      "source": [],
      "execution_count": null,
      "outputs": []
    },
    {
      "cell_type": "markdown",
      "metadata": {
        "id": "yPPs6BGXXpbz"
      },
      "source": [
        "##Robust Regression"
      ]
    },
    {
      "cell_type": "markdown",
      "metadata": {
        "id": "qbSU5HhybjpF"
      },
      "source": [
        "Robust regression is a form of regression analysis designed to overcome some limitations of traditional parametric and non-parametric methods. Robust regression methods are designed to be not overly affected by violations of assumptions by the underlying data-generating process.\n",
        "\n",
        "One instance in which robust estimation should be considered is when there is a strong suspicion of heteroscedasticity.\n",
        "\n",
        "A common situation in which robust estimation is used occurs when the data contain outliers. In the presence of outliers that do not come from the same data-generating process as the rest of the data, least squares estimation is inefficient and can be biased. Because the least squares predictions are dragged towards the outliers, and because the variance of the estimates is artificially inflated, the result is that outliers can be masked. (In many situations, including some areas of geostatistics and medical statistics, it is precisely the outliers that are of interest.)"
      ]
    },
    {
      "cell_type": "markdown",
      "metadata": {
        "id": "SdwUYoHfbpIq"
      },
      "source": [
        "Random Sample Consensus - RANSAC\n",
        "Random sample consensus (RANSAC) is an iterative method to estimate parameters of a mathematical model from a set of observed data that contains outliers, when outliers are to be accorded no influence on the values of the estimates. Therefore, it also can be interpreted as an outlier detection method.\n",
        "\n",
        "A basic assumption is that the data consists of \"inliers\", i.e., data whose distribution can be explained by some set of model parameters, though may be subject to noise, and \"outliers\" which are data that do not fit the model. The outliers can come, for example, from extreme values of the noise or from erroneous measurements or incorrect hypotheses about the interpretation of data. RANSAC also assumes that, given a (usually small) set of inliers, there exists a procedure which can estimate the parameters of a model that optimally explains or fits this data."
      ]
    },
    {
      "cell_type": "markdown",
      "metadata": {
        "id": "O8ZgTfGZb3Ta"
      },
      "source": [
        "###Implementation"
      ]
    },
    {
      "cell_type": "code",
      "metadata": {
        "colab": {
          "base_uri": "https://localhost:8080/",
          "height": 369
        },
        "id": "KJb8DZEpbeCH",
        "outputId": "3927fb91-30b6-4eb8-90d8-16597515b7ec"
      },
      "source": [
        "from sklearn.linear_model import RANSACRegressor\n",
        "\n",
        "model = RANSACRegressor(base_estimator=LinearRegression(), max_trials=100)\n",
        "model.fit(X_train, y_train)\n",
        "robust_pred = model.predict(X_train)\n",
        "\n",
        "#viz\n",
        "fig, ax = plt.subplots()\n",
        "sns.scatterplot(y_train, robust_pred)\n",
        "ax.set_xlabel(r'$y$', size = 16)\n",
        "ax.set_ylabel(r'$\\hat{y}$', rotation = 0, size = 16, labelpad = 15)\n",
        "ax.set_title(r'$y$ vs. $\\hat{y}$', size = 20, pad = 10)\n",
        "sns.despine()"
      ],
      "execution_count": null,
      "outputs": [
        {
          "output_type": "stream",
          "name": "stderr",
          "text": [
            "/usr/local/lib/python3.7/dist-packages/seaborn/_decorators.py:43: FutureWarning: Pass the following variables as keyword args: x, y. From version 0.12, the only valid positional argument will be `data`, and passing other arguments without an explicit keyword will result in an error or misinterpretation.\n",
            "  FutureWarning\n"
          ]
        },
        {
          "output_type": "display_data",
          "data": {
            "image/png": "[encoded data removed]",
            "text/plain": [
              "<Figure size 432x288 with 1 Axes>"
            ]
          },
          "metadata": {
            "needs_background": "light"
          }
        }
      ]
    },
    {
      "cell_type": "code",
      "metadata": {
        "id": "FqfhgihBbeE7"
      },
      "source": [],
      "execution_count": null,
      "outputs": []
    },
    {
      "cell_type": "markdown",
      "metadata": {
        "id": "ZvsevmyLXpeY"
      },
      "source": [
        "##Ridge Regression"
      ]
    },
    {
      "cell_type": "markdown",
      "metadata": {
        "id": "x0PL4iX9cuej"
      },
      "source": [
        "Ridge regression addresses some of the problems of Ordinary Least Squares by imposing a penalty on the size of coefficients. The ridge coefficients minimize a penalized residual sum of squares.\n",
        " \n",
        "α>=0  is a complexity parameter that controls the amount of shrinkage: the larger the value of  α , the greater the amount of shrinkage and thus the coefficients become more robust to collinearity.\n",
        "\n",
        "Ridge regression is an L2 penalized model. Add the squared sum of the weights to the least-squares cost function."
      ]
    },
    {
      "cell_type": "markdown",
      "metadata": {
        "id": "CnyO91fccuiG"
      },
      "source": [
        "###Implementation"
      ]
    },
    {
      "cell_type": "code",
      "metadata": {
        "colab": {
          "base_uri": "https://localhost:8080/"
        },
        "id": "tc4wP-PXcqU1",
        "outputId": "038faee9-a83b-4c63-c8a8-eb96464ff06b"
      },
      "source": [
        "from sklearn.linear_model import Ridge\n",
        "alpha = 1\n",
        "\n",
        "# Ridge\n",
        "ridge_model = Ridge(alpha = alpha)\n",
        "ridge_model.fit(X_train, y_train)\n",
        "\n",
        "# In practice, however, we want to choose alpha through cross validation. \n",
        "# This is easily implemented in scikit-learn by designating a set of alpha values to try and fitting the model with RidgeCV or LassoCV.\n",
        "\n",
        "from sklearn.linear_model import RidgeCV\n",
        "alphas = [0.01, 1, 100]\n",
        "\n",
        "# Ridge\n",
        "ridgeCV_model = RidgeCV(alphas = alphas)\n",
        "ridgeCV_model.fit(X_train, y_train)"
      ],
      "execution_count": null,
      "outputs": [
        {
          "output_type": "execute_result",
          "data": {
            "text/plain": [
              "RidgeCV(alphas=array([1.e-02, 1.e+00, 1.e+02]), cv=None, fit_intercept=True,\n",
              "        gcv_mode=None, normalize=False, scoring=None, store_cv_values=False)"
            ]
          },
          "metadata": {},
          "execution_count": 7
        }
      ]
    },
    {
      "cell_type": "code",
      "metadata": {
        "id": "SRXarDjHcqXr"
      },
      "source": [],
      "execution_count": null,
      "outputs": []
    },
    {
      "cell_type": "markdown",
      "metadata": {
        "id": "xgGmmPzGXpg5"
      },
      "source": [
        "##LASSO Regression"
      ]
    },
    {
      "cell_type": "markdown",
      "metadata": {
        "id": "Vr5IIfPNXpkW"
      },
      "source": [
        "A linear model that estimates sparse coefficients.\n",
        "Mathematically, it consists of a linear model trained with  ℓ1  prior as regularizer. \n",
        "The lasso estimate thus solves the minimization of the least-squares penalty with  α∣∣∣∣w∣∣∣∣1  added, where  α  is a constant and  ∣∣∣∣w∣∣∣∣1  is the  ℓ1−norm  of the parameter vector."
      ]
    },
    {
      "cell_type": "code",
      "metadata": {
        "id": "bWwyMumSdfDd"
      },
      "source": [
        "from sklearn.linear_model import  Lasso\n",
        "alpha = 1\n",
        "# Lasso\n",
        "lasso_model = Lasso(alpha = alpha)\n",
        "lasso_model.fit(X_train, y_train)\n",
        "\n",
        "# in practice \n",
        "from sklearn.linear_model import  LassoCV\n",
        "alphas = [0.01, 1, 100]\n",
        "\n",
        "# Lasso\n",
        "lassoCV_model = LassoCV(alphas = alphas)\n",
        "lassoCV_model.fit(X_train, y_train);"
      ],
      "execution_count": null,
      "outputs": []
    },
    {
      "cell_type": "code",
      "metadata": {
        "id": "eOZFVreIdkdS"
      },
      "source": [],
      "execution_count": null,
      "outputs": []
    },
    {
      "cell_type": "markdown",
      "metadata": {
        "id": "eaC4CoWReDDC"
      },
      "source": []
    },
    {
      "cell_type": "markdown",
      "metadata": {
        "id": "6CwVd42meDGo"
      },
      "source": []
    }
  ]
}