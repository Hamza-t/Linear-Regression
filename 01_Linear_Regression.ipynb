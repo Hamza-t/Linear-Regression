{
  "nbformat": 4,
  "nbformat_minor": 0,
  "metadata": {
    "kernelspec": {
      "display_name": "Python 3",
      "language": "python",
      "name": "python3"
    },
    "language_info": {
      "codemirror_mode": {
        "name": "ipython",
        "version": 3
      },
      "file_extension": ".py",
      "mimetype": "text/x-python",
      "name": "python",
      "nbconvert_exporter": "python",
      "pygments_lexer": "ipython3",
      "version": "3.7.1"
    },
    "colab": {
      "provenance": [],
      "include_colab_link": true
    }
  },
  "cells": [
    {
      "cell_type": "markdown",
      "metadata": {
        "id": "view-in-github",
        "colab_type": "text"
      },
      "source": [
        "<a href=\"https://colab.research.google.com/github/Hamza-t/Linear-Regression/blob/main/01_Linear_Regression.ipynb\" target=\"_parent\"><img src=\"https://colab.research.google.com/assets/colab-badge.svg\" alt=\"Open In Colab\"/></a>"
      ]
    },
    {
      "cell_type": "markdown",
      "source": [
        "#Real-estate-price-prediction"
      ],
      "metadata": {
        "id": "amO7K1RpnCIf"
      }
    },
    {
      "cell_type": "code",
      "metadata": {
        "_cell_guid": "b1076dfc-b9ad-4769-8c92-a6c4dae69d19",
        "_uuid": "8f2839f25d086af736a60e9eeb907d3b93b6e0e5",
        "id": "i1j95btvt9jj"
      },
      "source": [
        "import numpy as np # linear algebra\n",
        "import pandas as pd # data processing, CSV file I/O (e.g. pd.read_csv)\n",
        "\n"
      ],
      "execution_count": null,
      "outputs": []
    },
    {
      "cell_type": "code",
      "source": [
        "pip install opendatasets --upgrade --quiet"
      ],
      "metadata": {
        "id": "PnVSCpZPcsJi"
      },
      "execution_count": null,
      "outputs": []
    },
    {
      "cell_type": "code",
      "source": [
        "#for importing data (Kaggle)\n",
        "import os\n",
        "import opendatasets as od\n"
      ],
      "metadata": {
        "id": "u6ioyVGDcyHS"
      },
      "execution_count": null,
      "outputs": []
    },
    {
      "cell_type": "code",
      "source": [
        "#Connect with Kagle !\n",
        "path=\"https://www.kaggle.com/quantbruce/real-estate-price-prediction\"\n",
        "od.download(path)"
      ],
      "metadata": {
        "colab": {
          "base_uri": "https://localhost:8080/"
        },
        "id": "S7qpFMAScPjD",
        "outputId": "c6ccd657-ead6-4134-bb79-a78f2b9e2ab6"
      },
      "execution_count": null,
      "outputs": [
        {
          "output_type": "stream",
          "name": "stdout",
          "text": [
            "Skipping, found downloaded files in \"./real-estate-price-prediction\" (use force=True to force download)\n"
          ]
        }
      ]
    },
    {
      "cell_type": "code",
      "source": [
        "path_c= \"./real-estate-price-prediction\"\n",
        "os.listdir(path_c)"
      ],
      "metadata": {
        "colab": {
          "base_uri": "https://localhost:8080/"
        },
        "id": "4La9x287cPmr",
        "outputId": "d18b45ad-0437-4c59-9fc6-0f137d3b11d3"
      },
      "execution_count": null,
      "outputs": [
        {
          "output_type": "execute_result",
          "data": {
            "text/plain": [
              "['Real estate.csv']"
            ]
          },
          "metadata": {},
          "execution_count": 18
        }
      ]
    },
    {
      "cell_type": "code",
      "metadata": {
        "_cell_guid": "79c7e3d0-c299-4dcb-8224-4455121ee9b0",
        "_uuid": "d629ff2d2480ee46fbb7e2d37f6b5fab8052498a",
        "id": "zn-bVTRKt9js",
        "outputId": "5c76517a-331e-49e3-89e6-c5f00dc6bf3e",
        "colab": {
          "base_uri": "https://localhost:8080/",
          "height": 380
        }
      },
      "source": [
        "real_estate=pd.read_csv(path_c+\"/Real estate.csv\")\n",
        "real_estate.head(10)"
      ],
      "execution_count": null,
      "outputs": [
        {
          "output_type": "execute_result",
          "data": {
            "text/html": [
              "<div>\n",
              "<style scoped>\n",
              "    .dataframe tbody tr th:only-of-type {\n",
              "        vertical-align: middle;\n",
              "    }\n",
              "\n",
              "    .dataframe tbody tr th {\n",
              "        vertical-align: top;\n",
              "    }\n",
              "\n",
              "    .dataframe thead th {\n",
              "        text-align: right;\n",
              "    }\n",
              "</style>\n",
              "<table border=\"1\" class=\"dataframe\">\n",
              "  <thead>\n",
              "    <tr style=\"text-align: right;\">\n",
              "      <th></th>\n",
              "      <th>No</th>\n",
              "      <th>X1 transaction date</th>\n",
              "      <th>X2 house age</th>\n",
              "      <th>X3 distance to the nearest MRT station</th>\n",
              "      <th>X4 number of convenience stores</th>\n",
              "      <th>X5 latitude</th>\n",
              "      <th>X6 longitude</th>\n",
              "      <th>Y house price of unit area</th>\n",
              "    </tr>\n",
              "  </thead>\n",
              "  <tbody>\n",
              "    <tr>\n",
              "      <th>0</th>\n",
              "      <td>1</td>\n",
              "      <td>2012.917</td>\n",
              "      <td>32.0</td>\n",
              "      <td>84.87882</td>\n",
              "      <td>10</td>\n",
              "      <td>24.98298</td>\n",
              "      <td>121.54024</td>\n",
              "      <td>37.9</td>\n",
              "    </tr>\n",
              "    <tr>\n",
              "      <th>1</th>\n",
              "      <td>2</td>\n",
              "      <td>2012.917</td>\n",
              "      <td>19.5</td>\n",
              "      <td>306.59470</td>\n",
              "      <td>9</td>\n",
              "      <td>24.98034</td>\n",
              "      <td>121.53951</td>\n",
              "      <td>42.2</td>\n",
              "    </tr>\n",
              "    <tr>\n",
              "      <th>2</th>\n",
              "      <td>3</td>\n",
              "      <td>2013.583</td>\n",
              "      <td>13.3</td>\n",
              "      <td>561.98450</td>\n",
              "      <td>5</td>\n",
              "      <td>24.98746</td>\n",
              "      <td>121.54391</td>\n",
              "      <td>47.3</td>\n",
              "    </tr>\n",
              "    <tr>\n",
              "      <th>3</th>\n",
              "      <td>4</td>\n",
              "      <td>2013.500</td>\n",
              "      <td>13.3</td>\n",
              "      <td>561.98450</td>\n",
              "      <td>5</td>\n",
              "      <td>24.98746</td>\n",
              "      <td>121.54391</td>\n",
              "      <td>54.8</td>\n",
              "    </tr>\n",
              "    <tr>\n",
              "      <th>4</th>\n",
              "      <td>5</td>\n",
              "      <td>2012.833</td>\n",
              "      <td>5.0</td>\n",
              "      <td>390.56840</td>\n",
              "      <td>5</td>\n",
              "      <td>24.97937</td>\n",
              "      <td>121.54245</td>\n",
              "      <td>43.1</td>\n",
              "    </tr>\n",
              "    <tr>\n",
              "      <th>5</th>\n",
              "      <td>6</td>\n",
              "      <td>2012.667</td>\n",
              "      <td>7.1</td>\n",
              "      <td>2175.03000</td>\n",
              "      <td>3</td>\n",
              "      <td>24.96305</td>\n",
              "      <td>121.51254</td>\n",
              "      <td>32.1</td>\n",
              "    </tr>\n",
              "    <tr>\n",
              "      <th>6</th>\n",
              "      <td>7</td>\n",
              "      <td>2012.667</td>\n",
              "      <td>34.5</td>\n",
              "      <td>623.47310</td>\n",
              "      <td>7</td>\n",
              "      <td>24.97933</td>\n",
              "      <td>121.53642</td>\n",
              "      <td>40.3</td>\n",
              "    </tr>\n",
              "    <tr>\n",
              "      <th>7</th>\n",
              "      <td>8</td>\n",
              "      <td>2013.417</td>\n",
              "      <td>20.3</td>\n",
              "      <td>287.60250</td>\n",
              "      <td>6</td>\n",
              "      <td>24.98042</td>\n",
              "      <td>121.54228</td>\n",
              "      <td>46.7</td>\n",
              "    </tr>\n",
              "    <tr>\n",
              "      <th>8</th>\n",
              "      <td>9</td>\n",
              "      <td>2013.500</td>\n",
              "      <td>31.7</td>\n",
              "      <td>5512.03800</td>\n",
              "      <td>1</td>\n",
              "      <td>24.95095</td>\n",
              "      <td>121.48458</td>\n",
              "      <td>18.8</td>\n",
              "    </tr>\n",
              "    <tr>\n",
              "      <th>9</th>\n",
              "      <td>10</td>\n",
              "      <td>2013.417</td>\n",
              "      <td>17.9</td>\n",
              "      <td>1783.18000</td>\n",
              "      <td>3</td>\n",
              "      <td>24.96731</td>\n",
              "      <td>121.51486</td>\n",
              "      <td>22.1</td>\n",
              "    </tr>\n",
              "  </tbody>\n",
              "</table>\n",
              "</div>"
            ],
            "text/plain": [
              "   No  X1 transaction date  ...  X6 longitude  Y house price of unit area\n",
              "0   1             2012.917  ...     121.54024                        37.9\n",
              "1   2             2012.917  ...     121.53951                        42.2\n",
              "2   3             2013.583  ...     121.54391                        47.3\n",
              "3   4             2013.500  ...     121.54391                        54.8\n",
              "4   5             2012.833  ...     121.54245                        43.1\n",
              "5   6             2012.667  ...     121.51254                        32.1\n",
              "6   7             2012.667  ...     121.53642                        40.3\n",
              "7   8             2013.417  ...     121.54228                        46.7\n",
              "8   9             2013.500  ...     121.48458                        18.8\n",
              "9  10             2013.417  ...     121.51486                        22.1\n",
              "\n",
              "[10 rows x 8 columns]"
            ]
          },
          "metadata": {},
          "execution_count": 19
        }
      ]
    },
    {
      "cell_type": "code",
      "metadata": {
        "id": "wgvnZrAut9ju",
        "outputId": "aca9dd08-3591-42b8-bfb3-1f54ec08b4f4",
        "colab": {
          "base_uri": "https://localhost:8080/",
          "height": 318
        }
      },
      "source": [
        "#summary\n",
        "real_estate.describe()"
      ],
      "execution_count": null,
      "outputs": [
        {
          "output_type": "execute_result",
          "data": {
            "text/html": [
              "<div>\n",
              "<style scoped>\n",
              "    .dataframe tbody tr th:only-of-type {\n",
              "        vertical-align: middle;\n",
              "    }\n",
              "\n",
              "    .dataframe tbody tr th {\n",
              "        vertical-align: top;\n",
              "    }\n",
              "\n",
              "    .dataframe thead th {\n",
              "        text-align: right;\n",
              "    }\n",
              "</style>\n",
              "<table border=\"1\" class=\"dataframe\">\n",
              "  <thead>\n",
              "    <tr style=\"text-align: right;\">\n",
              "      <th></th>\n",
              "      <th>No</th>\n",
              "      <th>X1 transaction date</th>\n",
              "      <th>X2 house age</th>\n",
              "      <th>X3 distance to the nearest MRT station</th>\n",
              "      <th>X4 number of convenience stores</th>\n",
              "      <th>X5 latitude</th>\n",
              "      <th>X6 longitude</th>\n",
              "      <th>Y house price of unit area</th>\n",
              "    </tr>\n",
              "  </thead>\n",
              "  <tbody>\n",
              "    <tr>\n",
              "      <th>count</th>\n",
              "      <td>414.000000</td>\n",
              "      <td>414.000000</td>\n",
              "      <td>414.000000</td>\n",
              "      <td>414.000000</td>\n",
              "      <td>414.000000</td>\n",
              "      <td>414.000000</td>\n",
              "      <td>414.000000</td>\n",
              "      <td>414.000000</td>\n",
              "    </tr>\n",
              "    <tr>\n",
              "      <th>mean</th>\n",
              "      <td>207.500000</td>\n",
              "      <td>2013.148971</td>\n",
              "      <td>17.712560</td>\n",
              "      <td>1083.885689</td>\n",
              "      <td>4.094203</td>\n",
              "      <td>24.969030</td>\n",
              "      <td>121.533361</td>\n",
              "      <td>37.980193</td>\n",
              "    </tr>\n",
              "    <tr>\n",
              "      <th>std</th>\n",
              "      <td>119.655756</td>\n",
              "      <td>0.281967</td>\n",
              "      <td>11.392485</td>\n",
              "      <td>1262.109595</td>\n",
              "      <td>2.945562</td>\n",
              "      <td>0.012410</td>\n",
              "      <td>0.015347</td>\n",
              "      <td>13.606488</td>\n",
              "    </tr>\n",
              "    <tr>\n",
              "      <th>min</th>\n",
              "      <td>1.000000</td>\n",
              "      <td>2012.667000</td>\n",
              "      <td>0.000000</td>\n",
              "      <td>23.382840</td>\n",
              "      <td>0.000000</td>\n",
              "      <td>24.932070</td>\n",
              "      <td>121.473530</td>\n",
              "      <td>7.600000</td>\n",
              "    </tr>\n",
              "    <tr>\n",
              "      <th>25%</th>\n",
              "      <td>104.250000</td>\n",
              "      <td>2012.917000</td>\n",
              "      <td>9.025000</td>\n",
              "      <td>289.324800</td>\n",
              "      <td>1.000000</td>\n",
              "      <td>24.963000</td>\n",
              "      <td>121.528085</td>\n",
              "      <td>27.700000</td>\n",
              "    </tr>\n",
              "    <tr>\n",
              "      <th>50%</th>\n",
              "      <td>207.500000</td>\n",
              "      <td>2013.167000</td>\n",
              "      <td>16.100000</td>\n",
              "      <td>492.231300</td>\n",
              "      <td>4.000000</td>\n",
              "      <td>24.971100</td>\n",
              "      <td>121.538630</td>\n",
              "      <td>38.450000</td>\n",
              "    </tr>\n",
              "    <tr>\n",
              "      <th>75%</th>\n",
              "      <td>310.750000</td>\n",
              "      <td>2013.417000</td>\n",
              "      <td>28.150000</td>\n",
              "      <td>1454.279000</td>\n",
              "      <td>6.000000</td>\n",
              "      <td>24.977455</td>\n",
              "      <td>121.543305</td>\n",
              "      <td>46.600000</td>\n",
              "    </tr>\n",
              "    <tr>\n",
              "      <th>max</th>\n",
              "      <td>414.000000</td>\n",
              "      <td>2013.583000</td>\n",
              "      <td>43.800000</td>\n",
              "      <td>6488.021000</td>\n",
              "      <td>10.000000</td>\n",
              "      <td>25.014590</td>\n",
              "      <td>121.566270</td>\n",
              "      <td>117.500000</td>\n",
              "    </tr>\n",
              "  </tbody>\n",
              "</table>\n",
              "</div>"
            ],
            "text/plain": [
              "               No  ...  Y house price of unit area\n",
              "count  414.000000  ...                  414.000000\n",
              "mean   207.500000  ...                   37.980193\n",
              "std    119.655756  ...                   13.606488\n",
              "min      1.000000  ...                    7.600000\n",
              "25%    104.250000  ...                   27.700000\n",
              "50%    207.500000  ...                   38.450000\n",
              "75%    310.750000  ...                   46.600000\n",
              "max    414.000000  ...                  117.500000\n",
              "\n",
              "[8 rows x 8 columns]"
            ]
          },
          "metadata": {},
          "execution_count": 20
        }
      ]
    },
    {
      "cell_type": "code",
      "metadata": {
        "id": "j2jAQSugt9jv",
        "outputId": "3778fea6-1c42-4abf-f7b2-5d2a5ba5f675",
        "colab": {
          "base_uri": "https://localhost:8080/",
          "height": 441
        }
      },
      "source": [
        "#Removing NA values in the dataset\n",
        "real_estate.dropna()"
      ],
      "execution_count": null,
      "outputs": [
        {
          "output_type": "execute_result",
          "data": {
            "text/html": [
              "<div>\n",
              "<style scoped>\n",
              "    .dataframe tbody tr th:only-of-type {\n",
              "        vertical-align: middle;\n",
              "    }\n",
              "\n",
              "    .dataframe tbody tr th {\n",
              "        vertical-align: top;\n",
              "    }\n",
              "\n",
              "    .dataframe thead th {\n",
              "        text-align: right;\n",
              "    }\n",
              "</style>\n",
              "<table border=\"1\" class=\"dataframe\">\n",
              "  <thead>\n",
              "    <tr style=\"text-align: right;\">\n",
              "      <th></th>\n",
              "      <th>No</th>\n",
              "      <th>X1 transaction date</th>\n",
              "      <th>X2 house age</th>\n",
              "      <th>X3 distance to the nearest MRT station</th>\n",
              "      <th>X4 number of convenience stores</th>\n",
              "      <th>X5 latitude</th>\n",
              "      <th>X6 longitude</th>\n",
              "      <th>Y house price of unit area</th>\n",
              "    </tr>\n",
              "  </thead>\n",
              "  <tbody>\n",
              "    <tr>\n",
              "      <th>0</th>\n",
              "      <td>1</td>\n",
              "      <td>2012.917</td>\n",
              "      <td>32.0</td>\n",
              "      <td>84.87882</td>\n",
              "      <td>10</td>\n",
              "      <td>24.98298</td>\n",
              "      <td>121.54024</td>\n",
              "      <td>37.9</td>\n",
              "    </tr>\n",
              "    <tr>\n",
              "      <th>1</th>\n",
              "      <td>2</td>\n",
              "      <td>2012.917</td>\n",
              "      <td>19.5</td>\n",
              "      <td>306.59470</td>\n",
              "      <td>9</td>\n",
              "      <td>24.98034</td>\n",
              "      <td>121.53951</td>\n",
              "      <td>42.2</td>\n",
              "    </tr>\n",
              "    <tr>\n",
              "      <th>2</th>\n",
              "      <td>3</td>\n",
              "      <td>2013.583</td>\n",
              "      <td>13.3</td>\n",
              "      <td>561.98450</td>\n",
              "      <td>5</td>\n",
              "      <td>24.98746</td>\n",
              "      <td>121.54391</td>\n",
              "      <td>47.3</td>\n",
              "    </tr>\n",
              "    <tr>\n",
              "      <th>3</th>\n",
              "      <td>4</td>\n",
              "      <td>2013.500</td>\n",
              "      <td>13.3</td>\n",
              "      <td>561.98450</td>\n",
              "      <td>5</td>\n",
              "      <td>24.98746</td>\n",
              "      <td>121.54391</td>\n",
              "      <td>54.8</td>\n",
              "    </tr>\n",
              "    <tr>\n",
              "      <th>4</th>\n",
              "      <td>5</td>\n",
              "      <td>2012.833</td>\n",
              "      <td>5.0</td>\n",
              "      <td>390.56840</td>\n",
              "      <td>5</td>\n",
              "      <td>24.97937</td>\n",
              "      <td>121.54245</td>\n",
              "      <td>43.1</td>\n",
              "    </tr>\n",
              "    <tr>\n",
              "      <th>...</th>\n",
              "      <td>...</td>\n",
              "      <td>...</td>\n",
              "      <td>...</td>\n",
              "      <td>...</td>\n",
              "      <td>...</td>\n",
              "      <td>...</td>\n",
              "      <td>...</td>\n",
              "      <td>...</td>\n",
              "    </tr>\n",
              "    <tr>\n",
              "      <th>409</th>\n",
              "      <td>410</td>\n",
              "      <td>2013.000</td>\n",
              "      <td>13.7</td>\n",
              "      <td>4082.01500</td>\n",
              "      <td>0</td>\n",
              "      <td>24.94155</td>\n",
              "      <td>121.50381</td>\n",
              "      <td>15.4</td>\n",
              "    </tr>\n",
              "    <tr>\n",
              "      <th>410</th>\n",
              "      <td>411</td>\n",
              "      <td>2012.667</td>\n",
              "      <td>5.6</td>\n",
              "      <td>90.45606</td>\n",
              "      <td>9</td>\n",
              "      <td>24.97433</td>\n",
              "      <td>121.54310</td>\n",
              "      <td>50.0</td>\n",
              "    </tr>\n",
              "    <tr>\n",
              "      <th>411</th>\n",
              "      <td>412</td>\n",
              "      <td>2013.250</td>\n",
              "      <td>18.8</td>\n",
              "      <td>390.96960</td>\n",
              "      <td>7</td>\n",
              "      <td>24.97923</td>\n",
              "      <td>121.53986</td>\n",
              "      <td>40.6</td>\n",
              "    </tr>\n",
              "    <tr>\n",
              "      <th>412</th>\n",
              "      <td>413</td>\n",
              "      <td>2013.000</td>\n",
              "      <td>8.1</td>\n",
              "      <td>104.81010</td>\n",
              "      <td>5</td>\n",
              "      <td>24.96674</td>\n",
              "      <td>121.54067</td>\n",
              "      <td>52.5</td>\n",
              "    </tr>\n",
              "    <tr>\n",
              "      <th>413</th>\n",
              "      <td>414</td>\n",
              "      <td>2013.500</td>\n",
              "      <td>6.5</td>\n",
              "      <td>90.45606</td>\n",
              "      <td>9</td>\n",
              "      <td>24.97433</td>\n",
              "      <td>121.54310</td>\n",
              "      <td>63.9</td>\n",
              "    </tr>\n",
              "  </tbody>\n",
              "</table>\n",
              "<p>414 rows × 8 columns</p>\n",
              "</div>"
            ],
            "text/plain": [
              "      No  X1 transaction date  ...  X6 longitude  Y house price of unit area\n",
              "0      1             2012.917  ...     121.54024                        37.9\n",
              "1      2             2012.917  ...     121.53951                        42.2\n",
              "2      3             2013.583  ...     121.54391                        47.3\n",
              "3      4             2013.500  ...     121.54391                        54.8\n",
              "4      5             2012.833  ...     121.54245                        43.1\n",
              "..   ...                  ...  ...           ...                         ...\n",
              "409  410             2013.000  ...     121.50381                        15.4\n",
              "410  411             2012.667  ...     121.54310                        50.0\n",
              "411  412             2013.250  ...     121.53986                        40.6\n",
              "412  413             2013.000  ...     121.54067                        52.5\n",
              "413  414             2013.500  ...     121.54310                        63.9\n",
              "\n",
              "[414 rows x 8 columns]"
            ]
          },
          "metadata": {},
          "execution_count": 21
        }
      ]
    },
    {
      "cell_type": "code",
      "metadata": {
        "id": "ye4X-0UGt9jw",
        "outputId": "f6115d9d-8277-430b-b72e-fc71e6eb623d",
        "colab": {
          "base_uri": "https://localhost:8080/"
        }
      },
      "source": [
        "#mean\n",
        "house_age_mean=real_estate[\"X2 house age\"].mean()\n",
        "print(\"house_age_mean=\", house_age_mean)\n",
        "\n",
        "mean_convenience_stores=real_estate[\"X4 number of convenience stores\"].mean()\n",
        "mean_convenience_stores\n",
        "print(\"mean_convenience_stores=\",mean_convenience_stores)"
      ],
      "execution_count": null,
      "outputs": [
        {
          "output_type": "stream",
          "name": "stdout",
          "text": [
            "house_age_mean= 17.71256038647343\n",
            "mean_convenience_stores= 4.094202898550725\n"
          ]
        }
      ]
    },
    {
      "cell_type": "code",
      "metadata": {
        "id": "Ego_AbVPt9jx"
      },
      "source": [
        "import seaborn as sns"
      ],
      "execution_count": null,
      "outputs": []
    },
    {
      "cell_type": "markdown",
      "metadata": {
        "id": "5ekkxCRMt9jx"
      },
      "source": [
        "**Regression Plots**"
      ]
    },
    {
      "cell_type": "code",
      "metadata": {
        "id": "Wu4EeRY3t9jz",
        "outputId": "857ad49e-90cf-469c-dc5d-73595541760f",
        "colab": {
          "base_uri": "https://localhost:8080/",
          "height": 296
        }
      },
      "source": [
        "#regression plot\n",
        "sns.regplot(x=\"X2 house age\", y=\"Y house price of unit area\",data=real_estate)\n",
        "\n",
        "from scipy import stats\n",
        "#correlation\n",
        "pearson_coef,p_value=stats.pearsonr(real_estate[\"X2 house age\"],real_estate[\"Y house price of unit area\"])\n",
        "print(\"The correlation between house age and house price of unit area is\", pearson_coef, \"with p value of\", p_value)"
      ],
      "execution_count": null,
      "outputs": [
        {
          "output_type": "stream",
          "name": "stdout",
          "text": [
            "The correlation between house age and house price of unit area is -0.2105670462772168 with p value of 1.5604255047969416e-05\n"
          ]
        },
        {
          "output_type": "display_data",
          "data": {
            "image/png": "[encoded data removed]",
            "text/plain": [
              "<Figure size 432x288 with 1 Axes>"
            ]
          },
          "metadata": {
            "needs_background": "light"
          }
        }
      ]
    },
    {
      "cell_type": "code",
      "metadata": {
        "id": "DTMmlJwgt9j1",
        "outputId": "7b118653-e8e8-4b6f-d893-82f939fbbb9e",
        "colab": {
          "base_uri": "https://localhost:8080/",
          "height": 296
        }
      },
      "source": [
        "#regression plot\n",
        "sns.regplot(x=\"X3 distance to the nearest MRT station\", y=\"Y house price of unit area\",data=real_estate)\n",
        "\n",
        "#correlation\n",
        "pearson_coef1,p_value1=stats.pearsonr(real_estate[\"X3 distance to the nearest MRT station\"],real_estate[\"Y house price of unit area\"])\n",
        "print(\"The correlation between distance to the nearest MRT station and house price of unit area is\", pearson_coef1, \"with p value of\", p_value1)"
      ],
      "execution_count": null,
      "outputs": [
        {
          "output_type": "stream",
          "name": "stdout",
          "text": [
            "The correlation between distance to the nearest MRT station and house price of unit area is -0.6736128553689182 with p value of 4.639825030360989e-56\n"
          ]
        },
        {
          "output_type": "display_data",
          "data": {
            "image/png": "[encoded data removed]",
            "text/plain": [
              "<Figure size 432x288 with 1 Axes>"
            ]
          },
          "metadata": {
            "needs_background": "light"
          }
        }
      ]
    },
    {
      "cell_type": "code",
      "metadata": {
        "id": "qnUGx8Ixt9j2",
        "outputId": "e9c48bd3-b7a2-43ca-f4eb-d673e99965a3",
        "colab": {
          "base_uri": "https://localhost:8080/",
          "height": 296
        }
      },
      "source": [
        "#regression plot\n",
        "sns.regplot(x=\"X4 number of convenience stores\", y=\"Y house price of unit area\",data=real_estate)\n",
        "\n",
        "#correlation\n",
        "pearson_coef2,p_value2=stats.pearsonr(real_estate[\"X4 number of convenience stores\"],real_estate[\"Y house price of unit area\"])\n",
        "print(\"The correlation between the number of convenience stores and house price of unit area is\", pearson_coef2, \"with p value of\", p_value2)"
      ],
      "execution_count": null,
      "outputs": [
        {
          "output_type": "stream",
          "name": "stdout",
          "text": [
            "The correlation between the number of convenience stores and house price of unit area is 0.5710049111111485 with p value of 3.413483340495673e-37\n"
          ]
        },
        {
          "output_type": "display_data",
          "data": {
            "image/png": "[encoded data removed]",
            "text/plain": [
              "<Figure size 432x288 with 1 Axes>"
            ]
          },
          "metadata": {
            "needs_background": "light"
          }
        }
      ]
    },
    {
      "cell_type": "code",
      "metadata": {
        "id": "NBwMBzRRt9j3",
        "outputId": "d4f3535d-e477-4e5d-feb8-740cfc6cdbf1",
        "colab": {
          "base_uri": "https://localhost:8080/",
          "height": 296
        }
      },
      "source": [
        "#regression plot\n",
        "sns.regplot(x=\"X5 latitude\", y=\"Y house price of unit area\",data=real_estate)\n",
        "\n",
        "#correlation\n",
        "pearson_coef3,p_value3=stats.pearsonr(real_estate[\"X5 latitude\"],real_estate[\"Y house price of unit area\"])\n",
        "print(\"The correlation between the  latitude and house price of unit area is\", pearson_coef3, \"with p value of\", p_value3)"
      ],
      "execution_count": null,
      "outputs": [
        {
          "output_type": "stream",
          "name": "stdout",
          "text": [
            "The correlation between the  latitude and house price of unit area is 0.5463066525035893 with p value of 1.3877612957789282e-33\n"
          ]
        },
        {
          "output_type": "display_data",
          "data": {
            "image/png": "[encoded data removed]",
            "text/plain": [
              "<Figure size 432x288 with 1 Axes>"
            ]
          },
          "metadata": {
            "needs_background": "light"
          }
        }
      ]
    },
    {
      "cell_type": "code",
      "metadata": {
        "id": "FvwGzf7Ut9j3",
        "outputId": "e48341a0-0147-4bba-9bdc-7b3f2cfc980f",
        "colab": {
          "base_uri": "https://localhost:8080/",
          "height": 296
        }
      },
      "source": [
        "#regression plot\n",
        "sns.regplot(x=\"X6 longitude\", y=\"Y house price of unit area\",data=real_estate)\n",
        "\n",
        "#correlation\n",
        "pearson_coef4,p_value4=stats.pearsonr(real_estate[\"X6 longitude\"],real_estate[\"Y house price of unit area\"])\n",
        "print(\"The correlation between longitude and house price of unit area is\", pearson_coef4, \"with p value of\", p_value4)"
      ],
      "execution_count": null,
      "outputs": [
        {
          "output_type": "stream",
          "name": "stdout",
          "text": [
            "The correlation between longitude and house price of unit area is 0.5232865070287727 with p value of 1.7651906040485146e-30\n"
          ]
        },
        {
          "output_type": "display_data",
          "data": {
            "image/png": "[encoded data removed]",
            "text/plain": [
              "<Figure size 432x288 with 1 Axes>"
            ]
          },
          "metadata": {
            "needs_background": "light"
          }
        }
      ]
    },
    {
      "cell_type": "markdown",
      "metadata": {
        "id": "7_B1H2J1t9j4"
      },
      "source": [
        "## Linear Regression"
      ]
    },
    {
      "cell_type": "code",
      "metadata": {
        "id": "kICavjrot9j4"
      },
      "source": [
        "#Linear Regression\n",
        "\n",
        "from sklearn.linear_model import LinearRegression\n",
        "lm=LinearRegression()"
      ],
      "execution_count": null,
      "outputs": []
    },
    {
      "cell_type": "code",
      "metadata": {
        "id": "2n_W5OKct9j5"
      },
      "source": [
        "#Simple Linear Regression\n",
        "\n",
        "X2=real_estate[[\"X2 house age\"]]\n",
        "Y=real_estate[[\"Y house price of unit area\"]]"
      ],
      "execution_count": null,
      "outputs": []
    },
    {
      "cell_type": "code",
      "metadata": {
        "id": "9FA46xq1t9j5",
        "outputId": "0a941a82-fee2-4a98-ac23-85377376223f",
        "colab": {
          "base_uri": "https://localhost:8080/"
        }
      },
      "source": [
        "lm.fit(X2,Y)\n",
        "Yhat=lm.predict(X2)\n",
        "Yhat"
      ],
      "execution_count": null,
      "outputs": [
        {
          "output_type": "execute_result",
          "data": {
            "text/plain": [
              "array([[34.38706764],\n",
              "       [37.53067287],\n",
              "       [39.08990107],\n",
              "       [39.08990107],\n",
              "       [41.17725495],\n",
              "       [40.64912927],\n",
              "       [33.75834659],\n",
              "       [37.32948214],\n",
              "       [34.46251416],\n",
              "       [37.93305434],\n",
              "       [33.68290006],\n",
              "       [40.85032001],\n",
              "       [39.1653476 ],\n",
              "       [37.3043333 ],\n",
              "       [39.11504991],\n",
              "       [33.45656048],\n",
              "       [42.43469705],\n",
              "       [37.98335203],\n",
              "       [38.18454276],\n",
              "       [42.05746442],\n",
              "       [41.30299916],\n",
              "       [39.79406865],\n",
              "       [38.73781729],\n",
              "       [39.89466401],\n",
              "       [32.47575565],\n",
              "       [35.06608637],\n",
              "       [41.65508295],\n",
              "       [39.81921749],\n",
              "       [37.6061194 ],\n",
              "       [40.64912927],\n",
              "       [35.92114699],\n",
              "       [34.99063984],\n",
              "       [32.90328596],\n",
              "       [38.28513813],\n",
              "       [38.56177539],\n",
              "       [38.93900802],\n",
              "       [38.73781729],\n",
              "       [39.41683602],\n",
              "       [41.65508295],\n",
              "       [38.36058466],\n",
              "       [39.01445455],\n",
              "       [38.20969161],\n",
              "       [33.35596512],\n",
              "       [33.78349543],\n",
              "       [41.75567831],\n",
              "       [33.23022091],\n",
              "       [36.97739835],\n",
              "       [33.4062628 ],\n",
              "       [36.3486773 ],\n",
              "       [35.04093753],\n",
              "       [36.97739835],\n",
              "       [34.56310953],\n",
              "       [34.36191879],\n",
              "       [39.08990107],\n",
              "       [38.3857335 ],\n",
              "       [34.46251416],\n",
              "       [33.98468616],\n",
              "       [41.55448758],\n",
              "       [34.81459795],\n",
              "       [39.08990107],\n",
              "       [39.66832444],\n",
              "       [41.10180843],\n",
              "       [38.10909624],\n",
              "       [41.78082716],\n",
              "       [38.03364971],\n",
              "       [32.35001144],\n",
              "       [42.18320863],\n",
              "       [40.29704548],\n",
              "       [34.78944911],\n",
              "       [39.29109181],\n",
              "       [40.77487348],\n",
              "       [33.50685817],\n",
              "       [34.26132343],\n",
              "       [38.96415686],\n",
              "       [40.7245758 ],\n",
              "       [39.34138949],\n",
              "       [33.4062628 ],\n",
              "       [37.27918446],\n",
              "       [32.82783944],\n",
              "       [37.9079055 ],\n",
              "       [39.4671337 ],\n",
              "       [34.68885374],\n",
              "       [39.11504991],\n",
              "       [36.07204004],\n",
              "       [38.63722192],\n",
              "       [42.43469705],\n",
              "       [41.98201789],\n",
              "       [38.18454276],\n",
              "       [40.19645012],\n",
              "       [36.65046341],\n",
              "       [42.43469705],\n",
              "       [40.14615243],\n",
              "       [37.25403561],\n",
              "       [34.41221648],\n",
              "       [32.14882071],\n",
              "       [40.42278969],\n",
              "       [40.82517116],\n",
              "       [35.29242594],\n",
              "       [38.31028697],\n",
              "       [40.82517116],\n",
              "       [38.03364971],\n",
              "       [39.24079412],\n",
              "       [42.15805979],\n",
              "       [42.43469705],\n",
              "       [34.21102574],\n",
              "       [42.43469705],\n",
              "       [38.10909624],\n",
              "       [39.36653833],\n",
              "       [34.53796069],\n",
              "       [41.42874337],\n",
              "       [40.39764085],\n",
              "       [34.06013269],\n",
              "       [39.9449617 ],\n",
              "       [38.71266844],\n",
              "       [34.73915142],\n",
              "       [37.25403561],\n",
              "       [34.6637049 ],\n",
              "       [39.01445455],\n",
              "       [36.07204004],\n",
              "       [38.25998929],\n",
              "       [39.08990107],\n",
              "       [39.01445455],\n",
              "       [34.51281185],\n",
              "       [42.43469705],\n",
              "       [39.9449617 ],\n",
              "       [42.15805979],\n",
              "       [32.72724407],\n",
              "       [41.47904105],\n",
              "       [32.04822534],\n",
              "       [32.75239291],\n",
              "       [34.99063984],\n",
              "       [41.42874337],\n",
              "       [35.7451051 ],\n",
              "       [37.9079055 ],\n",
              "       [34.03498385],\n",
              "       [37.68156593],\n",
              "       [39.56772907],\n",
              "       [39.01445455],\n",
              "       [39.91981286],\n",
              "       [39.19049644],\n",
              "       [38.36058466],\n",
              "       [41.15210611],\n",
              "       [37.45522635],\n",
              "       [39.01445455],\n",
              "       [39.44198486],\n",
              "       [41.90657137],\n",
              "       [42.43469705],\n",
              "       [41.62993411],\n",
              "       [38.31028697],\n",
              "       [33.65775122],\n",
              "       [33.43141164],\n",
              "       [41.20240379],\n",
              "       [39.41683602],\n",
              "       [40.80002232],\n",
              "       [38.18454276],\n",
              "       [38.96415686],\n",
              "       [34.71400258],\n",
              "       [38.3857335 ],\n",
              "       [39.51743138],\n",
              "       [38.53662655],\n",
              "       [41.55448758],\n",
              "       [37.6061194 ],\n",
              "       [38.41088234],\n",
              "       [40.29704548],\n",
              "       [42.43469705],\n",
              "       [38.9893057 ],\n",
              "       [42.43469705],\n",
              "       [35.34272363],\n",
              "       [35.49361668],\n",
              "       [40.32219433],\n",
              "       [36.39897499],\n",
              "       [41.52933874],\n",
              "       [40.77487348],\n",
              "       [32.04822534],\n",
              "       [41.35329684],\n",
              "       [34.83974679],\n",
              "       [38.93900802],\n",
              "       [34.13557922],\n",
              "       [39.14019876],\n",
              "       [38.91385918],\n",
              "       [35.66965857],\n",
              "       [39.51743138],\n",
              "       [39.03960339],\n",
              "       [38.15939392],\n",
              "       [38.88871034],\n",
              "       [34.53796069],\n",
              "       [37.17858909],\n",
              "       [40.19645012],\n",
              "       [33.68290006],\n",
              "       [38.33543582],\n",
              "       [33.55715585],\n",
              "       [39.11504991],\n",
              "       [31.41950429],\n",
              "       [39.99525938],\n",
              "       [38.61207308],\n",
              "       [38.61207308],\n",
              "       [36.70076109],\n",
              "       [33.78349543],\n",
              "       [33.8840908 ],\n",
              "       [37.85760782],\n",
              "       [38.05879855],\n",
              "       [39.14019876],\n",
              "       [32.8026906 ],\n",
              "       [38.51147771],\n",
              "       [37.9079055 ],\n",
              "       [39.21564528],\n",
              "       [36.85165414],\n",
              "       [32.75239291],\n",
              "       [39.54258023],\n",
              "       [33.68290006],\n",
              "       [41.12695727],\n",
              "       [42.43469705],\n",
              "       [38.00850087],\n",
              "       [40.87546885],\n",
              "       [37.88275666],\n",
              "       [37.6061194 ],\n",
              "       [32.9284348 ],\n",
              "       [35.39302131],\n",
              "       [39.01445455],\n",
              "       [35.06608637],\n",
              "       [33.07932786],\n",
              "       [40.17130127],\n",
              "       [34.73915142],\n",
              "       [40.14615243],\n",
              "       [33.75834659],\n",
              "       [42.15805979],\n",
              "       [38.28513813],\n",
              "       [34.28647227],\n",
              "       [39.44198486],\n",
              "       [34.63855605],\n",
              "       [41.42874337],\n",
              "       [38.36058466],\n",
              "       [35.61936089],\n",
              "       [32.45060681],\n",
              "       [40.42278969],\n",
              "       [39.19049644],\n",
              "       [41.52933874],\n",
              "       [39.1653476 ],\n",
              "       [39.21564528],\n",
              "       [37.88275666],\n",
              "       [39.66832444],\n",
              "       [38.9893057 ],\n",
              "       [41.93172021],\n",
              "       [34.1858769 ],\n",
              "       [41.22755263],\n",
              "       [40.5485339 ],\n",
              "       [38.31028697],\n",
              "       [36.97739835],\n",
              "       [37.65641708],\n",
              "       [37.9079055 ],\n",
              "       [32.57635102],\n",
              "       [34.46251416],\n",
              "       [40.95091537],\n",
              "       [34.78944911],\n",
              "       [42.15805979],\n",
              "       [34.51281185],\n",
              "       [38.76296613],\n",
              "       [38.0839474 ],\n",
              "       [42.43469705],\n",
              "       [37.98335203],\n",
              "       [38.15939392],\n",
              "       [38.36058466],\n",
              "       [38.43603118],\n",
              "       [41.45389221],\n",
              "       [34.23617458],\n",
              "       [38.48632887],\n",
              "       [37.95820319],\n",
              "       [33.7080489 ],\n",
              "       [38.10909624],\n",
              "       [38.00850087],\n",
              "       [39.71862212],\n",
              "       [37.98335203],\n",
              "       [39.1653476 ],\n",
              "       [39.11504991],\n",
              "       [35.51876552],\n",
              "       [42.05746442],\n",
              "       [37.63126824],\n",
              "       [37.10314256],\n",
              "       [42.43469705],\n",
              "       [41.78082716],\n",
              "       [41.85627368],\n",
              "       [41.25270148],\n",
              "       [41.93172021],\n",
              "       [34.00983501],\n",
              "       [38.66237076],\n",
              "       [34.86489563],\n",
              "       [40.95091537],\n",
              "       [37.6061194 ],\n",
              "       [38.25998929],\n",
              "       [38.93900802],\n",
              "       [32.95358365],\n",
              "       [41.57963642],\n",
              "       [38.03364971],\n",
              "       [39.26594297],\n",
              "       [35.79540278],\n",
              "       [37.85760782],\n",
              "       [39.29109181],\n",
              "       [33.65775122],\n",
              "       [38.23484045],\n",
              "       [34.08528153],\n",
              "       [41.805976  ],\n",
              "       [32.87813712],\n",
              "       [38.28513813],\n",
              "       [32.8026906 ],\n",
              "       [37.40492866],\n",
              "       [38.36058466],\n",
              "       [38.81326381],\n",
              "       [39.84436633],\n",
              "       [38.31028697],\n",
              "       [34.81459795],\n",
              "       [38.31028697],\n",
              "       [37.07799372],\n",
              "       [33.53200701],\n",
              "       [40.34734317],\n",
              "       [41.5041899 ],\n",
              "       [38.51147771],\n",
              "       [39.08990107],\n",
              "       [38.51147771],\n",
              "       [40.64912927],\n",
              "       [33.73319775],\n",
              "       [39.03960339],\n",
              "       [38.18454276],\n",
              "       [39.19049644],\n",
              "       [35.24212826],\n",
              "       [39.31624065],\n",
              "       [33.23022091],\n",
              "       [41.40359453],\n",
              "       [41.55448758],\n",
              "       [38.43603118],\n",
              "       [39.01445455],\n",
              "       [34.38706764],\n",
              "       [35.99659352],\n",
              "       [32.42545797],\n",
              "       [40.47308738],\n",
              "       [34.89004447],\n",
              "       [35.56906321],\n",
              "       [41.15210611],\n",
              "       [34.56310953],\n",
              "       [34.51281185],\n",
              "       [42.00716673],\n",
              "       [33.98468616],\n",
              "       [39.1653476 ],\n",
              "       [41.00121306],\n",
              "       [34.00983501],\n",
              "       [33.73319775],\n",
              "       [42.43469705],\n",
              "       [39.11504991],\n",
              "       [38.05879855],\n",
              "       [41.27785032],\n",
              "       [40.47308738],\n",
              "       [39.11504991],\n",
              "       [41.42874337],\n",
              "       [37.80731014],\n",
              "       [41.40359453],\n",
              "       [39.36653833],\n",
              "       [41.47904105],\n",
              "       [39.84436633],\n",
              "       [42.43469705],\n",
              "       [42.15805979],\n",
              "       [41.0263619 ],\n",
              "       [34.16072806],\n",
              "       [32.0230765 ],\n",
              "       [38.13424508],\n",
              "       [34.31162111],\n",
              "       [33.55715585],\n",
              "       [38.0839474 ],\n",
              "       [38.8635615 ],\n",
              "       [38.66237076],\n",
              "       [37.85760782],\n",
              "       [37.35463098],\n",
              "       [38.43603118],\n",
              "       [41.40359453],\n",
              "       [33.90923964],\n",
              "       [42.43469705],\n",
              "       [41.07665958],\n",
              "       [36.97739835],\n",
              "       [38.73781729],\n",
              "       [41.45389221],\n",
              "       [33.05417901],\n",
              "       [42.43469705],\n",
              "       [38.88871034],\n",
              "       [40.42278969],\n",
              "       [38.33543582],\n",
              "       [35.11638405],\n",
              "       [38.3857335 ],\n",
              "       [37.83245898],\n",
              "       [42.43469705],\n",
              "       [38.36058466],\n",
              "       [39.81921749],\n",
              "       [32.14882071],\n",
              "       [34.1858769 ],\n",
              "       [40.87546885],\n",
              "       [31.69614155],\n",
              "       [38.18454276],\n",
              "       [34.23617458],\n",
              "       [37.10314256],\n",
              "       [33.1044767 ],\n",
              "       [39.14019876],\n",
              "       [38.73781729],\n",
              "       [39.24079412],\n",
              "       [35.69480741],\n",
              "       [40.52338506],\n",
              "       [39.24079412],\n",
              "       [34.6637049 ],\n",
              "       [38.31028697],\n",
              "       [36.65046341],\n",
              "       [41.95686905],\n",
              "       [41.12695727],\n",
              "       [37.78216129],\n",
              "       [38.9893057 ],\n",
              "       [41.0263619 ],\n",
              "       [37.70671477],\n",
              "       [40.39764085],\n",
              "       [40.80002232]])"
            ]
          },
          "metadata": {},
          "execution_count": 31
        }
      ]
    },
    {
      "cell_type": "code",
      "metadata": {
        "id": "qJyLz5Fat9j6",
        "outputId": "cba15341-f159-42e1-a10c-baa5d21eada1",
        "colab": {
          "base_uri": "https://localhost:8080/"
        }
      },
      "source": [
        "print(\"Intercept=\",lm.intercept_)\n",
        "print(\"Coefficient=\",lm.coef_)\n",
        "print(\"R squared=\", lm.score(X2,Y))"
      ],
      "execution_count": null,
      "outputs": [
        {
          "output_type": "stream",
          "name": "stdout",
          "text": [
            "Intercept= [42.43469705]\n",
            "Coefficient= [[-0.25148842]]\n",
            "R squared= 0.04433848097791171\n"
          ]
        }
      ]
    },
    {
      "cell_type": "code",
      "metadata": {
        "id": "QvEjaJSDt9j6",
        "outputId": "add3268e-5895-4f3d-e565-efb8b6361fb7",
        "colab": {
          "base_uri": "https://localhost:8080/",
          "height": 296
        }
      },
      "source": [
        "#residual plot\n",
        "\n",
        "sns.residplot(x=\"X2 house age\", y=\"Y house price of unit area\", data=real_estate)"
      ],
      "execution_count": null,
      "outputs": [
        {
          "output_type": "execute_result",
          "data": {
            "text/plain": [
              "<matplotlib.axes._subplots.AxesSubplot at 0x7f75f1ed3110>"
            ]
          },
          "metadata": {},
          "execution_count": 33
        },
        {
          "output_type": "display_data",
          "data": {
            "image/png": "[encoded data removed]",
            "text/plain": [
              "<Figure size 432x288 with 1 Axes>"
            ]
          },
          "metadata": {
            "needs_background": "light"
          }
        }
      ]
    },
    {
      "cell_type": "code",
      "metadata": {
        "id": "A0A4Qazut9j6",
        "outputId": "73da664b-6fec-450a-98f0-4308afebc446",
        "colab": {
          "base_uri": "https://localhost:8080/",
          "height": 386
        }
      },
      "source": [
        "#Actual values vs Predicted values of house price per unit area\n",
        "\n",
        "ax1=sns.distplot(real_estate[\"Y house price of unit area\"], hist=False,color=\"r\", label=\"Actual Value\")\n",
        "sns.distplot(Yhat, hist=False, color=\"b\", label=\"Fitted Values\", ax=ax1)"
      ],
      "execution_count": null,
      "outputs": [
        {
          "output_type": "stream",
          "name": "stderr",
          "text": [
            "/usr/local/lib/python3.7/dist-packages/seaborn/distributions.py:2619: FutureWarning: `distplot` is a deprecated function and will be removed in a future version. Please adapt your code to use either `displot` (a figure-level function with similar flexibility) or `kdeplot` (an axes-level function for kernel density plots).\n",
            "  warnings.warn(msg, FutureWarning)\n",
            "/usr/local/lib/python3.7/dist-packages/seaborn/distributions.py:2619: FutureWarning: `distplot` is a deprecated function and will be removed in a future version. Please adapt your code to use either `displot` (a figure-level function with similar flexibility) or `kdeplot` (an axes-level function for kernel density plots).\n",
            "  warnings.warn(msg, FutureWarning)\n"
          ]
        },
        {
          "output_type": "execute_result",
          "data": {
            "text/plain": [
              "<matplotlib.axes._subplots.AxesSubplot at 0x7f75f1e10f50>"
            ]
          },
          "metadata": {},
          "execution_count": 34
        },
        {
          "output_type": "display_data",
          "data": {
            "image/png": "[encoded data removed]",
            "text/plain": [
              "<Figure size 432x288 with 1 Axes>"
            ]
          },
          "metadata": {
            "needs_background": "light"
          }
        }
      ]
    },
    {
      "cell_type": "code",
      "metadata": {
        "id": "RnsxQ1PJt9j7",
        "outputId": "76028362-91f0-4710-acf9-3f2ccc81a498",
        "colab": {
          "base_uri": "https://localhost:8080/"
        }
      },
      "source": [
        "#linear regression with multiple input \n",
        "Z=real_estate[[\"X1 transaction date\",\"X2 house age\", \"X3 distance to the nearest MRT station\",\"X4 number of convenience stores\",\"X5 latitude\",\"X6 longitude\"]]\n",
        "lm.fit(Z,Y)\n",
        "Yhat1=lm.predict(Z)\n",
        "Yhat1"
      ],
      "execution_count": null,
      "outputs": [
        {
          "output_type": "execute_result",
          "data": {
            "text/plain": [
              "array([[47.1689389 ],\n",
              "       [47.82573429],\n",
              "       [48.79677789],\n",
              "       [48.36964101],\n",
              "       [46.13886467],\n",
              "       [31.13584564],\n",
              "       [38.61587363],\n",
              "       [46.85211217],\n",
              "       [ 9.16603868],\n",
              "       [34.77290915],\n",
              "       [33.57234765],\n",
              "       [53.09676524],\n",
              "       [40.81426207],\n",
              "       [26.94175908],\n",
              "       [45.60486371],\n",
              "       [38.10925895],\n",
              "       [50.74281482],\n",
              "       [37.18549698],\n",
              "       [46.73342273],\n",
              "       [47.53381528],\n",
              "       [35.27726629],\n",
              "       [49.46841634],\n",
              "       [28.83473867],\n",
              "       [47.85745455],\n",
              "       [34.85705632],\n",
              "       [31.97023446],\n",
              "       [46.14266672],\n",
              "       [42.09675228],\n",
              "       [42.74715351],\n",
              "       [45.6877317 ],\n",
              "       [13.30333363],\n",
              "       [40.52337885],\n",
              "       [30.63871176],\n",
              "       [46.3959655 ],\n",
              "       [47.09156123],\n",
              "       [33.19408286],\n",
              "       [30.47381406],\n",
              "       [30.84947324],\n",
              "       [44.37062824],\n",
              "       [45.87840415],\n",
              "       [14.39995637],\n",
              "       [16.50429405],\n",
              "       [36.5591134 ],\n",
              "       [40.18913549],\n",
              "       [47.67033493],\n",
              "       [39.75218341],\n",
              "       [46.77260072],\n",
              "       [37.498337  ],\n",
              "       [12.6294391 ],\n",
              "       [ 9.47655036],\n",
              "       [41.79896601],\n",
              "       [23.81663298],\n",
              "       [34.86234689],\n",
              "       [41.58762719],\n",
              "       [45.47309058],\n",
              "       [23.27524433],\n",
              "       [43.40062271],\n",
              "       [45.86319892],\n",
              "       [13.52063193],\n",
              "       [40.65937162],\n",
              "       [34.01289788],\n",
              "       [50.38387703],\n",
              "       [29.69016815],\n",
              "       [47.69730448],\n",
              "       [33.19569059],\n",
              "       [43.58378684],\n",
              "       [47.0337209 ],\n",
              "       [47.08418389],\n",
              "       [43.21229344],\n",
              "       [45.15286365],\n",
              "       [54.30241347],\n",
              "       [35.03310145],\n",
              "       [45.08136703],\n",
              "       [15.20543727],\n",
              "       [52.77691775],\n",
              "       [32.48225835],\n",
              "       [37.96185246],\n",
              "       [28.37132844],\n",
              "       [32.83403524],\n",
              "       [28.07123075],\n",
              "       [44.78896948],\n",
              "       [37.86100484],\n",
              "       [45.82221746],\n",
              "       [24.61611573],\n",
              "       [44.26336264],\n",
              "       [49.35986917],\n",
              "       [31.25565781],\n",
              "       [16.90446138],\n",
              "       [36.91305869],\n",
              "       [16.47268166],\n",
              "       [42.59419824],\n",
              "       [38.58335361],\n",
              "       [28.17437685],\n",
              "       [23.60122166],\n",
              "       [34.96992405],\n",
              "       [44.21878101],\n",
              "       [53.5020788 ],\n",
              "       [37.51677989],\n",
              "       [47.11102192],\n",
              "       [53.5020788 ],\n",
              "       [44.70209776],\n",
              "       [39.39880035],\n",
              "       [47.43388824],\n",
              "       [43.8320985 ],\n",
              "       [35.46822843],\n",
              "       [48.59683797],\n",
              "       [47.91075847],\n",
              "       [31.64980791],\n",
              "       [36.27683348],\n",
              "       [36.79268667],\n",
              "       [45.04608522],\n",
              "       [44.9735491 ],\n",
              "       [33.95184656],\n",
              "       [43.26435495],\n",
              "       [43.39173728],\n",
              "       [38.54774308],\n",
              "       [ 1.28869657],\n",
              "       [13.27337403],\n",
              "       [33.82588955],\n",
              "       [47.48421971],\n",
              "       [42.0199103 ],\n",
              "       [43.65269541],\n",
              "       [40.45876605],\n",
              "       [44.0157988 ],\n",
              "       [47.05711988],\n",
              "       [47.86617134],\n",
              "       [35.24421939],\n",
              "       [48.95413052],\n",
              "       [37.13838997],\n",
              "       [43.50191544],\n",
              "       [44.82269898],\n",
              "       [36.36554979],\n",
              "       [40.52965964],\n",
              "       [47.76014544],\n",
              "       [36.67083254],\n",
              "       [30.72957061],\n",
              "       [43.98567692],\n",
              "       [45.45084128],\n",
              "       [38.38274752],\n",
              "       [39.55467475],\n",
              "       [46.30554103],\n",
              "       [39.86427813],\n",
              "       [41.9064357 ],\n",
              "       [43.65269541],\n",
              "       [30.44415968],\n",
              "       [46.18193518],\n",
              "       [40.58326509],\n",
              "       [47.0460578 ],\n",
              "       [15.52485675],\n",
              "       [40.24211519],\n",
              "       [40.48204436],\n",
              "       [54.60890578],\n",
              "       [31.703747  ],\n",
              "       [43.46461278],\n",
              "       [16.4773245 ],\n",
              "       [15.20543727],\n",
              "       [26.7526556 ],\n",
              "       [42.23118235],\n",
              "       [45.2182947 ],\n",
              "       [39.39274901],\n",
              "       [47.22889432],\n",
              "       [41.61149268],\n",
              "       [12.86037981],\n",
              "       [47.08418389],\n",
              "       [41.01040197],\n",
              "       [35.20504364],\n",
              "       [51.6022348 ],\n",
              "       [45.39489213],\n",
              "       [37.06885392],\n",
              "       [30.91914963],\n",
              "       [12.72370306],\n",
              "       [48.14864962],\n",
              "       [54.30241347],\n",
              "       [37.30181551],\n",
              "       [51.72630935],\n",
              "       [35.95543305],\n",
              "       [12.9668058 ],\n",
              "       [44.80389576],\n",
              "       [45.76226923],\n",
              "       [39.4355048 ],\n",
              "       [ 9.22095423],\n",
              "       [51.58423096],\n",
              "       [33.80344304],\n",
              "       [16.05610558],\n",
              "       [21.86127648],\n",
              "       [30.42560483],\n",
              "       [29.98229023],\n",
              "       [22.34767653],\n",
              "       [42.30700947],\n",
              "       [13.63889116],\n",
              "       [43.8782201 ],\n",
              "       [39.26923236],\n",
              "       [38.49980648],\n",
              "       [48.40587153],\n",
              "       [16.05093147],\n",
              "       [40.01236888],\n",
              "       [37.6832102 ],\n",
              "       [42.5779831 ],\n",
              "       [39.97086697],\n",
              "       [46.44291762],\n",
              "       [33.65494324],\n",
              "       [47.99644322],\n",
              "       [33.40611726],\n",
              "       [43.46710768],\n",
              "       [28.07123075],\n",
              "       [37.15396984],\n",
              "       [50.3373016 ],\n",
              "       [33.98243351],\n",
              "       [28.83834411],\n",
              "       [41.13278075],\n",
              "       [49.5174593 ],\n",
              "       [43.8807551 ],\n",
              "       [37.48862488],\n",
              "       [51.83717792],\n",
              "       [35.57324382],\n",
              "       [46.62233896],\n",
              "       [32.3241297 ],\n",
              "       [41.37438877],\n",
              "       [43.22555853],\n",
              "       [42.37859516],\n",
              "       [44.9465048 ],\n",
              "       [39.03746003],\n",
              "       [49.06052741],\n",
              "       [38.58335361],\n",
              "       [41.9157219 ],\n",
              "       [48.29330822],\n",
              "       [13.61783957],\n",
              "       [43.4517874 ],\n",
              "       [34.35596357],\n",
              "       [27.15608561],\n",
              "       [36.36554979],\n",
              "       [13.05535249],\n",
              "       [12.05702149],\n",
              "       [44.36034853],\n",
              "       [34.15484693],\n",
              "       [43.46814562],\n",
              "       [54.90444001],\n",
              "       [38.1058019 ],\n",
              "       [37.72745789],\n",
              "       [34.68623029],\n",
              "       [33.35615404],\n",
              "       [47.11205986],\n",
              "       [33.91165013],\n",
              "       [46.59718029],\n",
              "       [38.6586299 ],\n",
              "       [45.75076263],\n",
              "       [43.76441871],\n",
              "       [31.58325155],\n",
              "       [31.12973794],\n",
              "       [ 7.44286765],\n",
              "       [39.64279738],\n",
              "       [23.6936577 ],\n",
              "       [50.63152969],\n",
              "       [26.00327121],\n",
              "       [47.30442895],\n",
              "       [ 8.79284089],\n",
              "       [37.58622816],\n",
              "       [39.39926443],\n",
              "       [51.6022348 ],\n",
              "       [32.64813162],\n",
              "       [37.3716589 ],\n",
              "       [29.78770168],\n",
              "       [44.67275592],\n",
              "       [35.96538246],\n",
              "       [39.99881151],\n",
              "       [40.19308368],\n",
              "       [33.94045871],\n",
              "       [36.62628654],\n",
              "       [45.85397704],\n",
              "       [32.24796429],\n",
              "       [42.30729777],\n",
              "       [44.00465161],\n",
              "       [39.95484208],\n",
              "       [42.26934946],\n",
              "       [42.64682811],\n",
              "       [47.53381528],\n",
              "       [37.24686289],\n",
              "       [31.18793846],\n",
              "       [43.8320985 ],\n",
              "       [40.57232842],\n",
              "       [48.034122  ],\n",
              "       [53.80342488],\n",
              "       [31.63400182],\n",
              "       [32.89158843],\n",
              "       [43.43605842],\n",
              "       [36.46078208],\n",
              "       [51.0638128 ],\n",
              "       [37.21989335],\n",
              "       [48.08265149],\n",
              "       [47.35297743],\n",
              "       [30.96500731],\n",
              "       [45.45788536],\n",
              "       [39.03384011],\n",
              "       [42.79677063],\n",
              "       [45.24509107],\n",
              "       [30.68159718],\n",
              "       [42.0644159 ],\n",
              "       [34.00227067],\n",
              "       [15.27759423],\n",
              "       [47.69159422],\n",
              "       [45.25121606],\n",
              "       [29.32885281],\n",
              "       [31.42048679],\n",
              "       [33.05608391],\n",
              "       [34.64313888],\n",
              "       [45.44612104],\n",
              "       [42.36963036],\n",
              "       [21.09397249],\n",
              "       [47.11102192],\n",
              "       [25.14684004],\n",
              "       [32.05250613],\n",
              "       [40.56683297],\n",
              "       [44.72544395],\n",
              "       [46.278703  ],\n",
              "       [47.20906159],\n",
              "       [36.20348129],\n",
              "       [45.93338117],\n",
              "       [37.60624543],\n",
              "       [54.83683974],\n",
              "       [35.52224037],\n",
              "       [12.01378671],\n",
              "       [41.86366441],\n",
              "       [40.16511165],\n",
              "       [44.0670797 ],\n",
              "       [30.83774979],\n",
              "       [39.75218341],\n",
              "       [48.70163227],\n",
              "       [44.64655539],\n",
              "       [34.17512219],\n",
              "       [13.27337403],\n",
              "       [24.41918891],\n",
              "       [12.52482228],\n",
              "       [33.33712702],\n",
              "       [43.41330011],\n",
              "       [39.54192516],\n",
              "       [41.98227808],\n",
              "       [37.4555298 ],\n",
              "       [35.64821549],\n",
              "       [42.12814176],\n",
              "       [50.56999918],\n",
              "       [34.51200705],\n",
              "       [38.46375146],\n",
              "       [49.83119502],\n",
              "       [42.66209194],\n",
              "       [28.36548641],\n",
              "       [40.15612821],\n",
              "       [34.48166403],\n",
              "       [10.6143669 ],\n",
              "       [47.14013013],\n",
              "       [43.41330011],\n",
              "       [41.18745986],\n",
              "       [32.84722811],\n",
              "       [26.3869225 ],\n",
              "       [36.33858025],\n",
              "       [32.08209102],\n",
              "       [48.95413052],\n",
              "       [39.96250874],\n",
              "       [52.79240289],\n",
              "       [47.86617134],\n",
              "       [28.9885303 ],\n",
              "       [45.63353915],\n",
              "       [40.18318581],\n",
              "       [44.3713182 ],\n",
              "       [49.70654385],\n",
              "       [42.25359623],\n",
              "       [30.14370403],\n",
              "       [25.96320219],\n",
              "       [30.60618923],\n",
              "       [40.48318298],\n",
              "       [27.59796331],\n",
              "       [43.81333593],\n",
              "       [44.90898301],\n",
              "       [39.57069963],\n",
              "       [43.8807551 ],\n",
              "       [48.17696334],\n",
              "       [30.58023153],\n",
              "       [34.13817805],\n",
              "       [49.26184676],\n",
              "       [40.52778808],\n",
              "       [51.1699517 ],\n",
              "       [47.29903835],\n",
              "       [54.87289997],\n",
              "       [13.86232622],\n",
              "       [36.96993842],\n",
              "       [12.83341026],\n",
              "       [51.30410518],\n",
              "       [41.01040197],\n",
              "       [31.38377394],\n",
              "       [34.52386807],\n",
              "       [40.54519959],\n",
              "       [44.87887237],\n",
              "       [31.77536976],\n",
              "       [38.17584062],\n",
              "       [42.27928043],\n",
              "       [15.96378269],\n",
              "       [39.3607    ],\n",
              "       [27.95670762],\n",
              "       [45.20469637],\n",
              "       [34.13817805],\n",
              "       [39.83108345],\n",
              "       [40.90285743],\n",
              "       [33.14182854],\n",
              "       [39.35963075],\n",
              "       [44.83116793],\n",
              "       [46.67873882],\n",
              "       [37.66055535],\n",
              "       [49.61817907],\n",
              "       [26.52329475],\n",
              "       [31.97551893],\n",
              "       [14.37298683],\n",
              "       [49.85816456],\n",
              "       [46.82840869],\n",
              "       [44.61894834],\n",
              "       [53.90224614]])"
            ]
          },
          "metadata": {},
          "execution_count": 35
        }
      ]
    },
    {
      "cell_type": "code",
      "metadata": {
        "id": "2H0GwMkrt9j7",
        "outputId": "291b4743-06ac-4509-a72b-2b27ab508197",
        "colab": {
          "base_uri": "https://localhost:8080/",
          "height": 386
        }
      },
      "source": [
        "\n",
        "\n",
        "#Actual vs Predicted plot of house price of unit area\n",
        "\n",
        "ax2=sns.distplot(real_estate[\"Y house price of unit area\"], hist=False,color=\"r\", label=\"Actual Value\")\n",
        "sns.distplot(Yhat1, hist=False, color=\"b\", label=\"Fitted Values\", ax=ax2)\n",
        "\n"
      ],
      "execution_count": null,
      "outputs": [
        {
          "output_type": "stream",
          "name": "stderr",
          "text": [
            "/usr/local/lib/python3.7/dist-packages/seaborn/distributions.py:2619: FutureWarning: `distplot` is a deprecated function and will be removed in a future version. Please adapt your code to use either `displot` (a figure-level function with similar flexibility) or `kdeplot` (an axes-level function for kernel density plots).\n",
            "  warnings.warn(msg, FutureWarning)\n",
            "/usr/local/lib/python3.7/dist-packages/seaborn/distributions.py:2619: FutureWarning: `distplot` is a deprecated function and will be removed in a future version. Please adapt your code to use either `displot` (a figure-level function with similar flexibility) or `kdeplot` (an axes-level function for kernel density plots).\n",
            "  warnings.warn(msg, FutureWarning)\n"
          ]
        },
        {
          "output_type": "execute_result",
          "data": {
            "text/plain": [
              "<matplotlib.axes._subplots.AxesSubplot at 0x7f75f1d95150>"
            ]
          },
          "metadata": {},
          "execution_count": 36
        },
        {
          "output_type": "display_data",
          "data": {
            "image/png": "[encoded data removed]",
            "text/plain": [
              "<Figure size 432x288 with 1 Axes>"
            ]
          },
          "metadata": {
            "needs_background": "light"
          }
        }
      ]
    },
    {
      "cell_type": "code",
      "metadata": {
        "id": "BA1GFOLVt9j7",
        "outputId": "47fa7996-14d3-4a6f-8acd-731d7e6c882d",
        "colab": {
          "base_uri": "https://localhost:8080/",
          "height": 424
        }
      },
      "source": [
        "from sklearn.model_selection import train_test_split\n",
        "\n",
        "#We split the data such that 70% is for training while 30% is for testing\n",
        "\n",
        "x_train,x_test,y_train,y_test=train_test_split(Z,Y, test_size=0.3, random_state=0)\n",
        "y_test"
      ],
      "execution_count": null,
      "outputs": [
        {
          "output_type": "execute_result",
          "data": {
            "text/html": [
              "<div>\n",
              "<style scoped>\n",
              "    .dataframe tbody tr th:only-of-type {\n",
              "        vertical-align: middle;\n",
              "    }\n",
              "\n",
              "    .dataframe tbody tr th {\n",
              "        vertical-align: top;\n",
              "    }\n",
              "\n",
              "    .dataframe thead th {\n",
              "        text-align: right;\n",
              "    }\n",
              "</style>\n",
              "<table border=\"1\" class=\"dataframe\">\n",
              "  <thead>\n",
              "    <tr style=\"text-align: right;\">\n",
              "      <th></th>\n",
              "      <th>Y house price of unit area</th>\n",
              "    </tr>\n",
              "  </thead>\n",
              "  <tbody>\n",
              "    <tr>\n",
              "      <th>356</th>\n",
              "      <td>45.3</td>\n",
              "    </tr>\n",
              "    <tr>\n",
              "      <th>170</th>\n",
              "      <td>14.4</td>\n",
              "    </tr>\n",
              "    <tr>\n",
              "      <th>224</th>\n",
              "      <td>46.0</td>\n",
              "    </tr>\n",
              "    <tr>\n",
              "      <th>331</th>\n",
              "      <td>15.6</td>\n",
              "    </tr>\n",
              "    <tr>\n",
              "      <th>306</th>\n",
              "      <td>50.2</td>\n",
              "    </tr>\n",
              "    <tr>\n",
              "      <th>...</th>\n",
              "      <td>...</td>\n",
              "    </tr>\n",
              "    <tr>\n",
              "      <th>353</th>\n",
              "      <td>31.3</td>\n",
              "    </tr>\n",
              "    <tr>\n",
              "      <th>81</th>\n",
              "      <td>36.8</td>\n",
              "    </tr>\n",
              "    <tr>\n",
              "      <th>107</th>\n",
              "      <td>26.6</td>\n",
              "    </tr>\n",
              "    <tr>\n",
              "      <th>362</th>\n",
              "      <td>40.0</td>\n",
              "    </tr>\n",
              "    <tr>\n",
              "      <th>410</th>\n",
              "      <td>50.0</td>\n",
              "    </tr>\n",
              "  </tbody>\n",
              "</table>\n",
              "<p>125 rows × 1 columns</p>\n",
              "</div>"
            ],
            "text/plain": [
              "     Y house price of unit area\n",
              "356                        45.3\n",
              "170                        14.4\n",
              "224                        46.0\n",
              "331                        15.6\n",
              "306                        50.2\n",
              "..                          ...\n",
              "353                        31.3\n",
              "81                         36.8\n",
              "107                        26.6\n",
              "362                        40.0\n",
              "410                        50.0\n",
              "\n",
              "[125 rows x 1 columns]"
            ]
          },
          "metadata": {},
          "execution_count": 37
        }
      ]
    },
    {
      "cell_type": "code",
      "metadata": {
        "id": "9fJ6b4A2t9j7",
        "outputId": "b045d607-b976-4a5d-cd1f-0542deeef513",
        "colab": {
          "base_uri": "https://localhost:8080/",
          "height": 424
        }
      },
      "source": [
        "x_train"
      ],
      "execution_count": null,
      "outputs": [
        {
          "output_type": "execute_result",
          "data": {
            "text/html": [
              "<div>\n",
              "<style scoped>\n",
              "    .dataframe tbody tr th:only-of-type {\n",
              "        vertical-align: middle;\n",
              "    }\n",
              "\n",
              "    .dataframe tbody tr th {\n",
              "        vertical-align: top;\n",
              "    }\n",
              "\n",
              "    .dataframe thead th {\n",
              "        text-align: right;\n",
              "    }\n",
              "</style>\n",
              "<table border=\"1\" class=\"dataframe\">\n",
              "  <thead>\n",
              "    <tr style=\"text-align: right;\">\n",
              "      <th></th>\n",
              "      <th>X1 transaction date</th>\n",
              "      <th>X2 house age</th>\n",
              "      <th>X3 distance to the nearest MRT station</th>\n",
              "      <th>X4 number of convenience stores</th>\n",
              "      <th>X5 latitude</th>\n",
              "      <th>X6 longitude</th>\n",
              "    </tr>\n",
              "  </thead>\n",
              "  <tbody>\n",
              "    <tr>\n",
              "      <th>294</th>\n",
              "      <td>2013.500</td>\n",
              "      <td>26.4</td>\n",
              "      <td>335.52730</td>\n",
              "      <td>6</td>\n",
              "      <td>24.97960</td>\n",
              "      <td>121.54140</td>\n",
              "    </tr>\n",
              "    <tr>\n",
              "      <th>96</th>\n",
              "      <td>2013.417</td>\n",
              "      <td>6.4</td>\n",
              "      <td>90.45606</td>\n",
              "      <td>9</td>\n",
              "      <td>24.97433</td>\n",
              "      <td>121.54310</td>\n",
              "    </tr>\n",
              "    <tr>\n",
              "      <th>377</th>\n",
              "      <td>2013.333</td>\n",
              "      <td>3.9</td>\n",
              "      <td>49.66105</td>\n",
              "      <td>8</td>\n",
              "      <td>24.95836</td>\n",
              "      <td>121.53756</td>\n",
              "    </tr>\n",
              "    <tr>\n",
              "      <th>89</th>\n",
              "      <td>2013.500</td>\n",
              "      <td>23.0</td>\n",
              "      <td>3947.94500</td>\n",
              "      <td>0</td>\n",
              "      <td>24.94783</td>\n",
              "      <td>121.50243</td>\n",
              "    </tr>\n",
              "    <tr>\n",
              "      <th>233</th>\n",
              "      <td>2013.333</td>\n",
              "      <td>39.7</td>\n",
              "      <td>333.36790</td>\n",
              "      <td>9</td>\n",
              "      <td>24.98016</td>\n",
              "      <td>121.53932</td>\n",
              "    </tr>\n",
              "    <tr>\n",
              "      <th>...</th>\n",
              "      <td>...</td>\n",
              "      <td>...</td>\n",
              "      <td>...</td>\n",
              "      <td>...</td>\n",
              "      <td>...</td>\n",
              "      <td>...</td>\n",
              "    </tr>\n",
              "    <tr>\n",
              "      <th>323</th>\n",
              "      <td>2013.417</td>\n",
              "      <td>28.6</td>\n",
              "      <td>197.13380</td>\n",
              "      <td>6</td>\n",
              "      <td>24.97631</td>\n",
              "      <td>121.54436</td>\n",
              "    </tr>\n",
              "    <tr>\n",
              "      <th>192</th>\n",
              "      <td>2013.167</td>\n",
              "      <td>43.8</td>\n",
              "      <td>57.58945</td>\n",
              "      <td>7</td>\n",
              "      <td>24.96750</td>\n",
              "      <td>121.54069</td>\n",
              "    </tr>\n",
              "    <tr>\n",
              "      <th>117</th>\n",
              "      <td>2013.000</td>\n",
              "      <td>13.6</td>\n",
              "      <td>4197.34900</td>\n",
              "      <td>0</td>\n",
              "      <td>24.93885</td>\n",
              "      <td>121.50383</td>\n",
              "    </tr>\n",
              "    <tr>\n",
              "      <th>47</th>\n",
              "      <td>2013.583</td>\n",
              "      <td>35.9</td>\n",
              "      <td>640.73910</td>\n",
              "      <td>3</td>\n",
              "      <td>24.97563</td>\n",
              "      <td>121.53715</td>\n",
              "    </tr>\n",
              "    <tr>\n",
              "      <th>172</th>\n",
              "      <td>2013.583</td>\n",
              "      <td>6.6</td>\n",
              "      <td>90.45606</td>\n",
              "      <td>9</td>\n",
              "      <td>24.97433</td>\n",
              "      <td>121.54310</td>\n",
              "    </tr>\n",
              "  </tbody>\n",
              "</table>\n",
              "<p>289 rows × 6 columns</p>\n",
              "</div>"
            ],
            "text/plain": [
              "     X1 transaction date  X2 house age  ...  X5 latitude  X6 longitude\n",
              "294             2013.500          26.4  ...     24.97960     121.54140\n",
              "96              2013.417           6.4  ...     24.97433     121.54310\n",
              "377             2013.333           3.9  ...     24.95836     121.53756\n",
              "89              2013.500          23.0  ...     24.94783     121.50243\n",
              "233             2013.333          39.7  ...     24.98016     121.53932\n",
              "..                   ...           ...  ...          ...           ...\n",
              "323             2013.417          28.6  ...     24.97631     121.54436\n",
              "192             2013.167          43.8  ...     24.96750     121.54069\n",
              "117             2013.000          13.6  ...     24.93885     121.50383\n",
              "47              2013.583          35.9  ...     24.97563     121.53715\n",
              "172             2013.583           6.6  ...     24.97433     121.54310\n",
              "\n",
              "[289 rows x 6 columns]"
            ]
          },
          "metadata": {},
          "execution_count": 38
        }
      ]
    },
    {
      "cell_type": "code",
      "metadata": {
        "id": "dourtjZ9t9j8",
        "outputId": "aef57582-861e-4f3c-f295-39e4f7903567",
        "colab": {
          "base_uri": "https://localhost:8080/",
          "height": 386
        }
      },
      "source": [
        "#Actual vs Predicted plot after splitting the data \n",
        "ax3=sns.distplot(real_estate[\"Y house price of unit area\"], hist=False,color=\"r\", label=\"Actual Value\")\n",
        "sns.distplot(y_test, hist=False, color=\"b\", label=\"Fitted Values\", ax=ax3)"
      ],
      "execution_count": null,
      "outputs": [
        {
          "output_type": "stream",
          "name": "stderr",
          "text": [
            "/usr/local/lib/python3.7/dist-packages/seaborn/distributions.py:2619: FutureWarning: `distplot` is a deprecated function and will be removed in a future version. Please adapt your code to use either `displot` (a figure-level function with similar flexibility) or `kdeplot` (an axes-level function for kernel density plots).\n",
            "  warnings.warn(msg, FutureWarning)\n",
            "/usr/local/lib/python3.7/dist-packages/seaborn/distributions.py:2619: FutureWarning: `distplot` is a deprecated function and will be removed in a future version. Please adapt your code to use either `displot` (a figure-level function with similar flexibility) or `kdeplot` (an axes-level function for kernel density plots).\n",
            "  warnings.warn(msg, FutureWarning)\n"
          ]
        },
        {
          "output_type": "execute_result",
          "data": {
            "text/plain": [
              "<matplotlib.axes._subplots.AxesSubplot at 0x7f75f1d06850>"
            ]
          },
          "metadata": {},
          "execution_count": 39
        },
        {
          "output_type": "display_data",
          "data": {
            "image/png": "[encoded data removed]",
            "text/plain": [
              "<Figure size 432x288 with 1 Axes>"
            ]
          },
          "metadata": {
            "needs_background": "light"
          }
        }
      ]
    },
    {
      "cell_type": "code",
      "metadata": {
        "id": "dIJo99oGt9j8",
        "outputId": "a1595bc9-115b-403d-c5c2-435216046be7",
        "colab": {
          "base_uri": "https://localhost:8080/"
        }
      },
      "source": [
        "lm.intercept_"
      ],
      "execution_count": null,
      "outputs": [
        {
          "output_type": "execute_result",
          "data": {
            "text/plain": [
              "array([-14437.10080228])"
            ]
          },
          "metadata": {},
          "execution_count": 40
        }
      ]
    },
    {
      "cell_type": "code",
      "metadata": {
        "id": "HzUK7ztGt9j8",
        "outputId": "e1e7b34d-faec-482a-b388-2c5d3175c5a7",
        "colab": {
          "base_uri": "https://localhost:8080/"
        }
      },
      "source": [
        "print(x_train.columns)\n",
        "lm.coef_"
      ],
      "execution_count": null,
      "outputs": [
        {
          "output_type": "stream",
          "name": "stdout",
          "text": [
            "Index(['X1 transaction date', 'X2 house age',\n",
            "       'X3 distance to the nearest MRT station',\n",
            "       'X4 number of convenience stores', 'X5 latitude', 'X6 longitude'],\n",
            "      dtype='object')\n"
          ]
        },
        {
          "output_type": "execute_result",
          "data": {
            "text/plain": [
              "array([[ 5.14622746e+00, -2.69695448e-01, -4.48746107e-03,\n",
              "         1.13327690e+00,  2.25472976e+02, -1.24236012e+01]])"
            ]
          },
          "metadata": {},
          "execution_count": 41
        }
      ]
    },
    {
      "cell_type": "markdown",
      "metadata": {
        "id": "UwBROjuKt9j9"
      },
      "source": [
        "## Ridge"
      ]
    },
    {
      "cell_type": "code",
      "metadata": {
        "id": "WCFf1C4ot9j9",
        "outputId": "ce134139-4fbf-489e-cb5e-795e90831d4d",
        "colab": {
          "base_uri": "https://localhost:8080/"
        }
      },
      "source": [
        "from sklearn.linear_model import Ridge,Lasso\n",
        "from sklearn.model_selection import GridSearchCV\n",
        "np.linspace(1,100,100)"
      ],
      "execution_count": null,
      "outputs": [
        {
          "output_type": "execute_result",
          "data": {
            "text/plain": [
              "array([  1.,   2.,   3.,   4.,   5.,   6.,   7.,   8.,   9.,  10.,  11.,\n",
              "        12.,  13.,  14.,  15.,  16.,  17.,  18.,  19.,  20.,  21.,  22.,\n",
              "        23.,  24.,  25.,  26.,  27.,  28.,  29.,  30.,  31.,  32.,  33.,\n",
              "        34.,  35.,  36.,  37.,  38.,  39.,  40.,  41.,  42.,  43.,  44.,\n",
              "        45.,  46.,  47.,  48.,  49.,  50.,  51.,  52.,  53.,  54.,  55.,\n",
              "        56.,  57.,  58.,  59.,  60.,  61.,  62.,  63.,  64.,  65.,  66.,\n",
              "        67.,  68.,  69.,  70.,  71.,  72.,  73.,  74.,  75.,  76.,  77.,\n",
              "        78.,  79.,  80.,  81.,  82.,  83.,  84.,  85.,  86.,  87.,  88.,\n",
              "        89.,  90.,  91.,  92.,  93.,  94.,  95.,  96.,  97.,  98.,  99.,\n",
              "       100.])"
            ]
          },
          "metadata": {},
          "execution_count": 42
        }
      ]
    },
    {
      "cell_type": "code",
      "metadata": {
        "id": "XqBBDhEPt9j9",
        "outputId": "d95630ed-8026-4645-8193-26559f50cf62",
        "colab": {
          "base_uri": "https://localhost:8080/"
        }
      },
      "source": [
        "np.arange(1,10,0.5)"
      ],
      "execution_count": null,
      "outputs": [
        {
          "output_type": "execute_result",
          "data": {
            "text/plain": [
              "array([1. , 1.5, 2. , 2.5, 3. , 3.5, 4. , 4.5, 5. , 5.5, 6. , 6.5, 7. ,\n",
              "       7.5, 8. , 8.5, 9. , 9.5])"
            ]
          },
          "metadata": {},
          "execution_count": 43
        }
      ]
    },
    {
      "cell_type": "code",
      "metadata": {
        "id": "UR90eTp1t9j-"
      },
      "source": [
        "lambdas=np.linspace(1,100,100)"
      ],
      "execution_count": null,
      "outputs": []
    },
    {
      "cell_type": "code",
      "metadata": {
        "id": "8HPnv4XUt9j-"
      },
      "source": [
        "params={'alpha':lambdas}"
      ],
      "execution_count": null,
      "outputs": []
    },
    {
      "cell_type": "code",
      "metadata": {
        "id": "kvrbDQN2t9j-"
      },
      "source": [
        "model=Ridge(fit_intercept=True)"
      ],
      "execution_count": null,
      "outputs": []
    },
    {
      "cell_type": "code",
      "metadata": {
        "id": "C7qVvk5ct9j-"
      },
      "source": [
        "grid_search=GridSearchCV(model,param_grid=params,cv=10,scoring='neg_mean_absolute_error')"
      ],
      "execution_count": null,
      "outputs": []
    },
    {
      "cell_type": "code",
      "metadata": {
        "id": "eMb4_ixmt9j-",
        "outputId": "c869fb59-9afd-497f-ecf6-7029032b49ae",
        "colab": {
          "base_uri": "https://localhost:8080/"
        }
      },
      "source": [
        "grid_search.fit(x_train,y_train)"
      ],
      "execution_count": null,
      "outputs": [
        {
          "output_type": "execute_result",
          "data": {
            "text/plain": [
              "GridSearchCV(cv=10, estimator=Ridge(),\n",
              "             param_grid={'alpha': array([  1.,   2.,   3.,   4.,   5.,   6.,   7.,   8.,   9.,  10.,  11.,\n",
              "        12.,  13.,  14.,  15.,  16.,  17.,  18.,  19.,  20.,  21.,  22.,\n",
              "        23.,  24.,  25.,  26.,  27.,  28.,  29.,  30.,  31.,  32.,  33.,\n",
              "        34.,  35.,  36.,  37.,  38.,  39.,  40.,  41.,  42.,  43.,  44.,\n",
              "        45.,  46.,  47.,  48.,  49.,  50.,  51.,  52.,  53.,  54.,  55.,\n",
              "        56.,  57.,  58.,  59.,  60.,  61.,  62.,  63.,  64.,  65.,  66.,\n",
              "        67.,  68.,  69.,  70.,  71.,  72.,  73.,  74.,  75.,  76.,  77.,\n",
              "        78.,  79.,  80.,  81.,  82.,  83.,  84.,  85.,  86.,  87.,  88.,\n",
              "        89.,  90.,  91.,  92.,  93.,  94.,  95.,  96.,  97.,  98.,  99.,\n",
              "       100.])},\n",
              "             scoring='neg_mean_absolute_error')"
            ]
          },
          "metadata": {},
          "execution_count": 48
        }
      ]
    },
    {
      "cell_type": "code",
      "metadata": {
        "id": "m3paboxRt9j_",
        "outputId": "b19606da-c0e7-4468-9121-6a54e751ee46",
        "colab": {
          "base_uri": "https://localhost:8080/"
        }
      },
      "source": [
        "grid_search.best_estimator_"
      ],
      "execution_count": null,
      "outputs": [
        {
          "output_type": "execute_result",
          "data": {
            "text/plain": [
              "Ridge()"
            ]
          },
          "metadata": {},
          "execution_count": 49
        }
      ]
    },
    {
      "cell_type": "code",
      "metadata": {
        "id": "ABJHYUO3t9j_",
        "outputId": "33f0e168-c65e-4856-9378-697a40a431f8",
        "colab": {
          "base_uri": "https://localhost:8080/"
        }
      },
      "source": [
        "grid_search.cv_results_"
      ],
      "execution_count": null,
      "outputs": [
        {
          "output_type": "execute_result",
          "data": {
            "text/plain": [
              "{'mean_fit_time': array([0.00610578, 0.00472064, 0.00493214, 0.00501044, 0.00544639,\n",
              "        0.00511739, 0.00410841, 0.00425177, 0.00418167, 0.00404561,\n",
              "        0.00439513, 0.00442441, 0.00430179, 0.00453157, 0.00453393,\n",
              "        0.0041441 , 0.0041503 , 0.00401597, 0.00436144, 0.00479443,\n",
              "        0.00413225, 0.0040632 , 0.00419571, 0.00437601, 0.00422971,\n",
              "        0.00401025, 0.00520351, 0.00521328, 0.0044476 , 0.00410542,\n",
              "        0.0045279 , 0.00470369, 0.00417728, 0.00425129, 0.00466499,\n",
              "        0.00432141, 0.00396905, 0.00399916, 0.00475776, 0.00413456,\n",
              "        0.00426276, 0.00414751, 0.00446835, 0.00420725, 0.00436709,\n",
              "        0.00441728, 0.00435934, 0.0042176 , 0.00443096, 0.0046257 ,\n",
              "        0.00529568, 0.00460746, 0.0041085 , 0.00481999, 0.00414619,\n",
              "        0.00427847, 0.00418816, 0.00444965, 0.00503876, 0.00435543,\n",
              "        0.00421796, 0.00427954, 0.00417061, 0.00468681, 0.00416942,\n",
              "        0.00407429, 0.00451429, 0.00403872, 0.00403659, 0.00414376,\n",
              "        0.00404916, 0.0040359 , 0.00405154, 0.00426545, 0.00471418,\n",
              "        0.0045857 , 0.00482554, 0.00477455, 0.0045213 , 0.00436535,\n",
              "        0.0044409 , 0.00417826, 0.004368  , 0.00418587, 0.00461128,\n",
              "        0.00481017, 0.0046972 , 0.00486293, 0.00533619, 0.00427914,\n",
              "        0.00424526, 0.00453   , 0.00444446, 0.00464396, 0.00407331,\n",
              "        0.00471249, 0.00434229, 0.00408459, 0.00406785, 0.00416527]),\n",
              " 'mean_score_time': array([0.00473425, 0.00375233, 0.00353639, 0.00348074, 0.00383608,\n",
              "        0.00419123, 0.00307479, 0.00312047, 0.00306513, 0.00301869,\n",
              "        0.00313878, 0.00305214, 0.00353839, 0.00349951, 0.00323253,\n",
              "        0.00302703, 0.0031527 , 0.00304992, 0.00320525, 0.00341849,\n",
              "        0.00307076, 0.00302105, 0.00311306, 0.00324311, 0.00307376,\n",
              "        0.00300488, 0.00361376, 0.00346813, 0.00312479, 0.00305758,\n",
              "        0.00327382, 0.00341458, 0.00312757, 0.00308244, 0.00317256,\n",
              "        0.00330324, 0.00298734, 0.00298448, 0.00365896, 0.00305932,\n",
              "        0.00321167, 0.00310755, 0.0035351 , 0.0031219 , 0.00313194,\n",
              "        0.00313487, 0.00313442, 0.00304122, 0.00318673, 0.00312698,\n",
              "        0.00368247, 0.0032912 , 0.00300384, 0.003509  , 0.00304804,\n",
              "        0.00310748, 0.00311368, 0.00317163, 0.00363603, 0.00314429,\n",
              "        0.00301855, 0.00309598, 0.00303707, 0.00343089, 0.00312333,\n",
              "        0.00303047, 0.00358534, 0.00308113, 0.00301487, 0.00314767,\n",
              "        0.00304763, 0.0032104 , 0.00298464, 0.00301228, 0.00340679,\n",
              "        0.00327325, 0.00379903, 0.00341873, 0.00329123, 0.00323837,\n",
              "        0.00328639, 0.00323319, 0.00318642, 0.00308974, 0.0039134 ,\n",
              "        0.00377867, 0.00338385, 0.0035465 , 0.00392852, 0.00333354,\n",
              "        0.00314159, 0.00317805, 0.00333629, 0.00320837, 0.00305064,\n",
              "        0.00381956, 0.00328364, 0.00308611, 0.00299647, 0.00304332]),\n",
              " 'mean_test_score': array([-6.60652715, -6.6120276 , -6.61337774, -6.61371699, -6.61387246,\n",
              "        -6.61494299, -6.61623634, -6.61751045, -6.61906998, -6.62089585,\n",
              "        -6.62298823, -6.62503252, -6.62694424, -6.62873657, -6.63054048,\n",
              "        -6.6324399 , -6.63452824, -6.63652699, -6.63846811, -6.64049093,\n",
              "        -6.64242628, -6.64428426, -6.646056  , -6.64774741, -6.64936387,\n",
              "        -6.65091029, -6.65239114, -6.65381054, -6.65517223, -6.65647969,\n",
              "        -6.6577361 , -6.6589444 , -6.6601073 , -6.66122734, -6.66230683,\n",
              "        -6.66334795, -6.66435271, -6.66532298, -6.66626051, -6.66716693,\n",
              "        -6.66804377, -6.66889246, -6.66971432, -6.67051061, -6.67128251,\n",
              "        -6.67203112, -6.67275748, -6.67346256, -6.6741473 , -6.67485209,\n",
              "        -6.67556669, -6.67626153, -6.67693743, -6.67759516, -6.67823543,\n",
              "        -6.67885893, -6.67946632, -6.6800582 , -6.68063517, -6.68119779,\n",
              "        -6.68174658, -6.68228204, -6.68280466, -6.68331489, -6.68381317,\n",
              "        -6.68429991, -6.68477551, -6.68524035, -6.68569479, -6.68614739,\n",
              "        -6.6866078 , -6.68705828, -6.68749912, -6.68793065, -6.68835315,\n",
              "        -6.6887669 , -6.68917218, -6.68956923, -6.68995832, -6.69033968,\n",
              "        -6.69071353, -6.6910801 , -6.69143959, -6.69179222, -6.69213817,\n",
              "        -6.69247764, -6.69281081, -6.69313785, -6.69345892, -6.6937742 ,\n",
              "        -6.69408383, -6.69438797, -6.69468677, -6.69498035, -6.69526887,\n",
              "        -6.69555245, -6.69583121, -6.69610528, -6.69637477, -6.6966398 ]),\n",
              " 'param_alpha': masked_array(data=[1.0, 2.0, 3.0, 4.0, 5.0, 6.0, 7.0, 8.0, 9.0, 10.0,\n",
              "                    11.0, 12.0, 13.0, 14.0, 15.0, 16.0, 17.0, 18.0, 19.0,\n",
              "                    20.0, 21.0, 22.0, 23.0, 24.0, 25.0, 26.0, 27.0, 28.0,\n",
              "                    29.0, 30.0, 31.0, 32.0, 33.0, 34.0, 35.0, 36.0, 37.0,\n",
              "                    38.0, 39.0, 40.0, 41.0, 42.0, 43.0, 44.0, 45.0, 46.0,\n",
              "                    47.0, 48.0, 49.0, 50.0, 51.0, 52.0, 53.0, 54.0, 55.0,\n",
              "                    56.0, 57.0, 58.0, 59.0, 60.0, 61.0, 62.0, 63.0, 64.0,\n",
              "                    65.0, 66.0, 67.0, 68.0, 69.0, 70.0, 71.0, 72.0, 73.0,\n",
              "                    74.0, 75.0, 76.0, 77.0, 78.0, 79.0, 80.0, 81.0, 82.0,\n",
              "                    83.0, 84.0, 85.0, 86.0, 87.0, 88.0, 89.0, 90.0, 91.0,\n",
              "                    92.0, 93.0, 94.0, 95.0, 96.0, 97.0, 98.0, 99.0, 100.0],\n",
              "              mask=[False, False, False, False, False, False, False, False,\n",
              "                    False, False, False, False, False, False, False, False,\n",
              "                    False, False, False, False, False, False, False, False,\n",
              "                    False, False, False, False, False, False, False, False,\n",
              "                    False, False, False, False, False, False, False, False,\n",
              "                    False, False, False, False, False, False, False, False,\n",
              "                    False, False, False, False, False, False, False, False,\n",
              "                    False, False, False, False, False, False, False, False,\n",
              "                    False, False, False, False, False, False, False, False,\n",
              "                    False, False, False, False, False, False, False, False,\n",
              "                    False, False, False, False, False, False, False, False,\n",
              "                    False, False, False, False, False, False, False, False,\n",
              "                    False, False, False, False],\n",
              "        fill_value='?',\n",
              "             dtype=object),\n",
              " 'params': [{'alpha': 1.0},\n",
              "  {'alpha': 2.0},\n",
              "  {'alpha': 3.0},\n",
              "  {'alpha': 4.0},\n",
              "  {'alpha': 5.0},\n",
              "  {'alpha': 6.0},\n",
              "  {'alpha': 7.0},\n",
              "  {'alpha': 8.0},\n",
              "  {'alpha': 9.0},\n",
              "  {'alpha': 10.0},\n",
              "  {'alpha': 11.0},\n",
              "  {'alpha': 12.0},\n",
              "  {'alpha': 13.0},\n",
              "  {'alpha': 14.0},\n",
              "  {'alpha': 15.0},\n",
              "  {'alpha': 16.0},\n",
              "  {'alpha': 17.0},\n",
              "  {'alpha': 18.0},\n",
              "  {'alpha': 19.0},\n",
              "  {'alpha': 20.0},\n",
              "  {'alpha': 21.0},\n",
              "  {'alpha': 22.0},\n",
              "  {'alpha': 23.0},\n",
              "  {'alpha': 24.0},\n",
              "  {'alpha': 25.0},\n",
              "  {'alpha': 26.0},\n",
              "  {'alpha': 27.0},\n",
              "  {'alpha': 28.0},\n",
              "  {'alpha': 29.0},\n",
              "  {'alpha': 30.0},\n",
              "  {'alpha': 31.0},\n",
              "  {'alpha': 32.0},\n",
              "  {'alpha': 33.0},\n",
              "  {'alpha': 34.0},\n",
              "  {'alpha': 35.0},\n",
              "  {'alpha': 36.0},\n",
              "  {'alpha': 37.0},\n",
              "  {'alpha': 38.0},\n",
              "  {'alpha': 39.0},\n",
              "  {'alpha': 40.0},\n",
              "  {'alpha': 41.0},\n",
              "  {'alpha': 42.0},\n",
              "  {'alpha': 43.0},\n",
              "  {'alpha': 44.0},\n",
              "  {'alpha': 45.0},\n",
              "  {'alpha': 46.0},\n",
              "  {'alpha': 47.0},\n",
              "  {'alpha': 48.0},\n",
              "  {'alpha': 49.0},\n",
              "  {'alpha': 50.0},\n",
              "  {'alpha': 51.0},\n",
              "  {'alpha': 52.0},\n",
              "  {'alpha': 53.0},\n",
              "  {'alpha': 54.0},\n",
              "  {'alpha': 55.0},\n",
              "  {'alpha': 56.0},\n",
              "  {'alpha': 57.0},\n",
              "  {'alpha': 58.0},\n",
              "  {'alpha': 59.0},\n",
              "  {'alpha': 60.0},\n",
              "  {'alpha': 61.0},\n",
              "  {'alpha': 62.0},\n",
              "  {'alpha': 63.0},\n",
              "  {'alpha': 64.0},\n",
              "  {'alpha': 65.0},\n",
              "  {'alpha': 66.0},\n",
              "  {'alpha': 67.0},\n",
              "  {'alpha': 68.0},\n",
              "  {'alpha': 69.0},\n",
              "  {'alpha': 70.0},\n",
              "  {'alpha': 71.0},\n",
              "  {'alpha': 72.0},\n",
              "  {'alpha': 73.0},\n",
              "  {'alpha': 74.0},\n",
              "  {'alpha': 75.0},\n",
              "  {'alpha': 76.0},\n",
              "  {'alpha': 77.0},\n",
              "  {'alpha': 78.0},\n",
              "  {'alpha': 79.0},\n",
              "  {'alpha': 80.0},\n",
              "  {'alpha': 81.0},\n",
              "  {'alpha': 82.0},\n",
              "  {'alpha': 83.0},\n",
              "  {'alpha': 84.0},\n",
              "  {'alpha': 85.0},\n",
              "  {'alpha': 86.0},\n",
              "  {'alpha': 87.0},\n",
              "  {'alpha': 88.0},\n",
              "  {'alpha': 89.0},\n",
              "  {'alpha': 90.0},\n",
              "  {'alpha': 91.0},\n",
              "  {'alpha': 92.0},\n",
              "  {'alpha': 93.0},\n",
              "  {'alpha': 94.0},\n",
              "  {'alpha': 95.0},\n",
              "  {'alpha': 96.0},\n",
              "  {'alpha': 97.0},\n",
              "  {'alpha': 98.0},\n",
              "  {'alpha': 99.0},\n",
              "  {'alpha': 100.0}],\n",
              " 'rank_test_score': array([  1,   2,   3,   4,   5,   6,   7,   8,   9,  10,  11,  12,  13,\n",
              "         14,  15,  16,  17,  18,  19,  20,  21,  22,  23,  24,  25,  26,\n",
              "         27,  28,  29,  30,  31,  32,  33,  34,  35,  36,  37,  38,  39,\n",
              "         40,  41,  42,  43,  44,  45,  46,  47,  48,  49,  50,  51,  52,\n",
              "         53,  54,  55,  56,  57,  58,  59,  60,  61,  62,  63,  64,  65,\n",
              "         66,  67,  68,  69,  70,  71,  72,  73,  74,  75,  76,  77,  78,\n",
              "         79,  80,  81,  82,  83,  84,  85,  86,  87,  88,  89,  90,  91,\n",
              "         92,  93,  94,  95,  96,  97,  98,  99, 100], dtype=int32),\n",
              " 'split0_test_score': array([-5.76604411, -5.75986887, -5.75623601, -5.75338257, -5.75093171,\n",
              "        -5.74874565, -5.74675729, -5.74492739, -5.74322996, -5.74559469,\n",
              "        -5.74790454, -5.75008853, -5.75215557, -5.75411416, -5.75597226,\n",
              "        -5.75773724, -5.75941588, -5.76101441, -5.76253849, -5.76399333,\n",
              "        -5.76538367, -5.76671386, -5.76798788, -5.76920937, -5.77038168,\n",
              "        -5.77150788, -5.77259079, -5.77363302, -5.77463698, -5.77560488,\n",
              "        -5.77653877, -5.77744056, -5.77831201, -5.77915474, -5.7799703 ,\n",
              "        -5.78076009, -5.78152543, -5.78226756, -5.78298762, -5.7836867 ,\n",
              "        -5.7843658 , -5.78502586, -5.78566777, -5.78629235, -5.78690041,\n",
              "        -5.78749265, -5.78806979, -5.78863246, -5.7891813 , -5.78971687,\n",
              "        -5.79023972, -5.79075038, -5.79124933, -5.79173704, -5.79221395,\n",
              "        -5.79268047, -5.79313701, -5.79358394, -5.79402161, -5.79445037,\n",
              "        -5.79487053, -5.79528242, -5.79568631, -5.79608249, -5.79647123,\n",
              "        -5.79685277, -5.79722737, -5.79759525, -5.79795664, -5.79831175,\n",
              "        -5.79866077, -5.79900391, -5.79934134, -5.79967326, -5.79999982,\n",
              "        -5.80032119, -5.80063753, -5.80094898, -5.8012557 , -5.80155782,\n",
              "        -5.80185547, -5.80214879, -5.80243789, -5.80272289, -5.80300391,\n",
              "        -5.80328106, -5.80355445, -5.80382416, -5.80409032, -5.804353  ,\n",
              "        -5.80461229, -5.8048683 , -5.8051211 , -5.80537077, -5.8056174 ,\n",
              "        -5.80586105, -5.80610181, -5.80633975, -5.80657493, -5.80680742]),\n",
              " 'split1_test_score': array([-6.46426211, -6.4672307 , -6.46397467, -6.45955419, -6.45494983,\n",
              "        -6.45045491, -6.44617019, -6.44335914, -6.44477136, -6.44605919,\n",
              "        -6.4472459 , -6.4483482 , -6.44937863, -6.45034688, -6.45126068,\n",
              "        -6.45271436, -6.45442357, -6.45605573, -6.45761736, -6.45911418,\n",
              "        -6.46055128, -6.4619332 , -6.463264  , -6.46454733, -6.46578648,\n",
              "        -6.46698444, -6.46814392, -6.46926739, -6.47035709, -6.47141511,\n",
              "        -6.47244333, -6.47344348, -6.47441719, -6.47536591, -6.47629104,\n",
              "        -6.47719382, -6.47807544, -6.47893699, -6.47977949, -6.48060387,\n",
              "        -6.48141104, -6.4822018 , -6.48297692, -6.48373715, -6.48448314,\n",
              "        -6.48521553, -6.48593492, -6.48664187, -6.48733691, -6.48802054,\n",
              "        -6.48869322, -6.48935539, -6.49000748, -6.49064988, -6.49128296,\n",
              "        -6.49190708, -6.49252257, -6.49312975, -6.49372892, -6.49432037,\n",
              "        -6.49490436, -6.49548117, -6.49605103, -6.49661419, -6.49717085,\n",
              "        -6.49772125, -6.49826557, -6.49880401, -6.49933677, -6.49986401,\n",
              "        -6.5003859 , -6.50090261, -6.50141429, -6.5019211 , -6.50242316,\n",
              "        -6.50292062, -6.50341361, -6.50390225, -6.50438666, -6.50486696,\n",
              "        -6.50534326, -6.50581567, -6.50628428, -6.5067492 , -6.50721051,\n",
              "        -6.50766832, -6.50812271, -6.50857376, -6.50902156, -6.50946618,\n",
              "        -6.5099077 , -6.51034619, -6.51078172, -6.51121436, -6.51164418,\n",
              "        -6.51207123, -6.51249558, -6.5129173 , -6.51333642, -6.51375302]),\n",
              " 'split2_test_score': array([-6.61334577, -6.6302376 , -6.63426577, -6.63515709, -6.63488203,\n",
              "        -6.63409121, -6.63305632, -6.63190744, -6.6307124 , -6.62950847,\n",
              "        -6.62831675, -6.62714924, -6.6260126 , -6.62491032, -6.62504077,\n",
              "        -6.62655799, -6.62797973, -6.62931499, -6.63103794, -6.63446881,\n",
              "        -6.63773337, -6.64084382, -6.64381113, -6.64664523, -6.64935513,\n",
              "        -6.65194902, -6.65443436, -6.656818  , -6.6591062 , -6.66130469,\n",
              "        -6.66341878, -6.66545335, -6.66741289, -6.66930157, -6.67112325,\n",
              "        -6.67288152, -6.67457971, -6.67622091, -6.67780801, -6.67934371,\n",
              "        -6.68083053, -6.68227081, -6.68366677, -6.68502046, -6.68633384,\n",
              "        -6.68760872, -6.68884682, -6.69004974, -6.69121902, -6.69235607,\n",
              "        -6.69346226, -6.69453886, -6.69558707, -6.69660804, -6.69760286,\n",
              "        -6.69857254, -6.69951806, -6.70044034, -6.70134026, -6.70221864,\n",
              "        -6.70307628, -6.70391393, -6.70473231, -6.7055321 , -6.70631396,\n",
              "        -6.70707849, -6.70782629, -6.70855793, -6.70927395, -6.70997487,\n",
              "        -6.71066117, -6.71133333, -6.7119918 , -6.71263702, -6.71326939,\n",
              "        -6.71388932, -6.71449719, -6.71509336, -6.71567818, -6.716252  ,\n",
              "        -6.71681513, -6.71736788, -6.71791056, -6.71844344, -6.71896682,\n",
              "        -6.71948095, -6.7199861 , -6.7204825 , -6.72097039, -6.72145001,\n",
              "        -6.72192158, -6.72238531, -6.7228414 , -6.72329005, -6.72373146,\n",
              "        -6.72416582, -6.72459328, -6.72501405, -6.72542827, -6.72583611]),\n",
              " 'split3_test_score': array([-6.76936093, -6.77134088, -6.76626057, -6.7599359 , -6.75348177,\n",
              "        -6.74722548, -6.7412748 , -6.73565995, -6.73038016, -6.72542175,\n",
              "        -6.72076594, -6.71639235, -6.71228075, -6.70841179, -6.70476741,\n",
              "        -6.70133088, -6.69808685, -6.69502126, -6.69212128, -6.68937517,\n",
              "        -6.68677223, -6.68430268, -6.68195756, -6.67972868, -6.67760854,\n",
              "        -6.67559024, -6.67366744, -6.67183432, -6.67008548, -6.66841599,\n",
              "        -6.66682123, -6.66529698, -6.66383931, -6.66244454, -6.66110931,\n",
              "        -6.65983045, -6.65860502, -6.65743029, -6.65630369, -6.65522284,\n",
              "        -6.6541855 , -6.65318956, -6.65223308, -6.6513142 , -6.6504312 ,\n",
              "        -6.64958244, -6.64876639, -6.64798162, -6.64722676, -6.64650052,\n",
              "        -6.6458017 , -6.64512914, -6.64448178, -6.64385857, -6.64325855,\n",
              "        -6.64268079, -6.64212444, -6.64158864, -6.64107263, -6.64057564,\n",
              "        -6.64009698, -6.63963595, -6.63919192, -6.63876427, -6.63835242,\n",
              "        -6.63795581, -6.6375739 , -6.63720619, -6.63685219, -6.63651143,\n",
              "        -6.63618348, -6.6358679 , -6.63556428, -6.63527225, -6.63499142,\n",
              "        -6.63472144, -6.63446197, -6.63421267, -6.63397323, -6.63374334,\n",
              "        -6.63352272, -6.63331108, -6.63310816, -6.63291369, -6.63272743,\n",
              "        -6.63254914, -6.63237858, -6.63221554, -6.63205979, -6.63191114,\n",
              "        -6.63176939, -6.63163433, -6.6315058 , -6.6313836 , -6.63126758,\n",
              "        -6.63115755, -6.63105336, -6.63095486, -6.63086189, -6.6307743 ]),\n",
              " 'split4_test_score': array([-6.11366175, -6.12635531, -6.13503245, -6.14226978, -6.14864563,\n",
              "        -6.15438982, -6.15962616, -6.16443467, -6.16887317, -6.17298636,\n",
              "        -6.17681037, -6.18037522, -6.18370635, -6.18682564, -6.18975213,\n",
              "        -6.19250248, -6.19771173, -6.20285982, -6.20773344, -6.21235324,\n",
              "        -6.21673786, -6.22090412, -6.22486726, -6.22864113, -6.23223833,\n",
              "        -6.23567036, -6.23894776, -6.24208017, -6.24507644, -6.24794472,\n",
              "        -6.25069253, -6.25332679, -6.25585393, -6.25827987, -6.26061012,\n",
              "        -6.2628498 , -6.26500367, -6.26707615, -6.26907137, -6.2709932 ,\n",
              "        -6.27284522, -6.27463083, -6.27635318, -6.27801522, -6.27961975,\n",
              "        -6.28116937, -6.28266655, -6.28411359, -6.28551268, -6.28686587,\n",
              "        -6.28817512, -6.28944224, -6.29066897, -6.29185696, -6.29300775,\n",
              "        -6.29412283, -6.29520358, -6.29625132, -6.29726733, -6.29825279,\n",
              "        -6.29920883, -6.30013655, -6.30103696, -6.30191106, -6.30275976,\n",
              "        -6.30358398, -6.30438454, -6.30516228, -6.30591796, -6.30665232,\n",
              "        -6.30736607, -6.3080599 , -6.30873444, -6.30939033, -6.31002815,\n",
              "        -6.31064848, -6.31125186, -6.31183882, -6.31240987, -6.31296548,\n",
              "        -6.31350612, -6.31403224, -6.31454426, -6.31504261, -6.31552767,\n",
              "        -6.31599983, -6.31645945, -6.31690689, -6.3173425 , -6.3177666 ,\n",
              "        -6.3181795 , -6.31858151, -6.31897294, -6.31935405, -6.31972514,\n",
              "        -6.32008645, -6.32043826, -6.3207808 , -6.32111431, -6.32143904]),\n",
              " 'split5_test_score': array([-8.57819012, -8.59784245, -8.6106158 , -8.62107793, -8.63023495,\n",
              "        -8.6430364 , -8.65530965, -8.6666333 , -8.67713381, -8.68690968,\n",
              "        -8.69604087, -8.70459409, -8.71262597, -8.7201853 , -8.72731453,\n",
              "        -8.73405085, -8.74042711, -8.74647245, -8.75221286, -8.75767159,\n",
              "        -8.76286956, -8.76782561, -8.77255679, -8.77707856, -8.78140497,\n",
              "        -8.78554885, -8.78952189, -8.79333482, -8.79699746, -8.80051885,\n",
              "        -8.80390733, -8.80717056, -8.81031563, -8.81334912, -8.81627712,\n",
              "        -8.81910525, -8.82183879, -8.82448262, -8.82704128, -8.82951904,\n",
              "        -8.83191985, -8.83424744, -8.83650529, -8.83869665, -8.84082458,\n",
              "        -8.84289196, -8.84490148, -8.8468557 , -8.84875701, -8.85060765,\n",
              "        -8.85240978, -8.85416539, -8.8558764 , -8.85754459, -8.85917168,\n",
              "        -8.86075928, -8.86230892, -8.86382205, -8.86530004, -8.86674422,\n",
              "        -8.86815582, -8.86953602, -8.87088596, -8.87220671, -8.87349928,\n",
              "        -8.87476467, -8.87600379, -8.87721753, -8.87840675, -8.87965437,\n",
              "        -8.88105456, -8.88242718, -8.88377313, -8.88509324, -8.88638833,\n",
              "        -8.88765917, -8.8889065 , -8.89013103, -8.89133346, -8.89251443,\n",
              "        -8.89367457, -8.8948145 , -8.8959348 , -8.89703602, -8.89811871,\n",
              "        -8.89918338, -8.90023054, -8.90126066, -8.9022742 , -8.90327162,\n",
              "        -8.90425335, -8.9052198 , -8.90617136, -8.90710844, -8.90803139,\n",
              "        -8.90894058, -8.90983636, -8.91071906, -8.91158902, -8.91244653]),\n",
              " 'split6_test_score': array([-5.33277072, -5.34575466, -5.36034976, -5.37440832, -5.38761037,\n",
              "        -5.3999283 , -5.41140645, -5.42210766, -5.432097  , -5.44143621,\n",
              "        -5.45018201, -5.45838569, -5.46609344, -5.47334666, -5.48018252,\n",
              "        -5.48663438, -5.49273225, -5.49850314, -5.50397145, -5.50915923,\n",
              "        -5.51420315, -5.51915065, -5.52386493, -5.52836153, -5.53265465,\n",
              "        -5.53675729, -5.54068135, -5.5444378 , -5.54803671, -5.55148737,\n",
              "        -5.55479835, -5.55797759, -5.56103243, -5.56396968, -5.56679566,\n",
              "        -5.56951626, -5.57213694, -5.57466281, -5.57709864, -5.57944887,\n",
              "        -5.58171766, -5.58390892, -5.5860263 , -5.58807322, -5.59005292,\n",
              "        -5.59196841, -5.59382255, -5.59561802, -5.59735735, -5.59904293,\n",
              "        -5.60067702, -5.60226174, -5.60379912, -5.60529106, -5.60673936,\n",
              "        -5.60814575, -5.60951184, -5.61083918, -5.61212924, -5.61338341,\n",
              "        -5.61460301, -5.61578931, -5.61694349, -5.61806672, -5.61916008,\n",
              "        -5.62022461, -5.6212613 , -5.62227111, -5.62325493, -5.62421363,\n",
              "        -5.62514805, -5.62605898, -5.62694717, -5.62781335, -5.62865821,\n",
              "        -5.62948244, -5.63028665, -5.63107148, -5.63183751, -5.6325853 ,\n",
              "        -5.63331541, -5.63402835, -5.63472462, -5.63540472, -5.6360691 ,\n",
              "        -5.63671821, -5.63735248, -5.63797234, -5.63857817, -5.63917037,\n",
              "        -5.63974931, -5.64031534, -5.64086882, -5.64141007, -5.64193942,\n",
              "        -5.64245717, -5.64296364, -5.64345911, -5.64394386, -5.64441817]),\n",
              " 'split7_test_score': array([-6.9200333 , -6.89571201, -6.86990614, -6.84534788, -6.82238814,\n",
              "        -6.80577507, -6.79366785, -6.78241086, -6.77191461, -6.7621022 ,\n",
              "        -6.75683195, -6.75282034, -6.74904205, -6.74547613, -6.74210415,\n",
              "        -6.73890977, -6.73587849, -6.73299734, -6.73025474, -6.72764024,\n",
              "        -6.72514446, -6.7227589 , -6.72047586, -6.71828836, -6.71619003,\n",
              "        -6.71417505, -6.71223812, -6.71037436, -6.70857931, -6.70684886,\n",
              "        -6.70517921, -6.70356687, -6.70200862, -6.70050145, -6.69904259,\n",
              "        -6.69762947, -6.69625969, -6.69493103, -6.69364141, -6.69238888,\n",
              "        -6.69117164, -6.68998798, -6.68883633, -6.6877152 , -6.68662317,\n",
              "        -6.68555896, -6.68452131, -6.68350908, -6.68252116, -6.68155652,\n",
              "        -6.6806142 , -6.67969327, -6.67879286, -6.67791216, -6.67705038,\n",
              "        -6.67620678, -6.67538067, -6.67457138, -6.67377829, -6.6730008 ,\n",
              "        -6.67223833, -6.67149035, -6.67075634, -6.67003582, -6.6693283 ,\n",
              "        -6.66863336, -6.66795056, -6.66727949, -6.66661978, -6.66597105,\n",
              "        -6.66533294, -6.66470512, -6.66408726, -6.66347905, -6.6628802 ,\n",
              "        -6.66229041, -6.66170943, -6.66113697, -6.6605728 , -6.66001667,\n",
              "        -6.65946835, -6.65892761, -6.65839424, -6.65786804, -6.65734881,\n",
              "        -6.65683635, -6.65633049, -6.65583104, -6.65533784, -6.65485071,\n",
              "        -6.65436951, -6.65389408, -6.65342428, -6.65295995, -6.65250097,\n",
              "        -6.65204719, -6.6515985 , -6.65115477, -6.65071588, -6.65028171]),\n",
              " 'split8_test_score': array([-6.73617737, -6.74684925, -6.75583572, -6.76386017, -6.77305665,\n",
              "        -6.78310412, -6.79239642, -6.80100654, -6.8090007 , -6.81643791,\n",
              "        -6.82337044, -6.82984454, -6.83590113, -6.84157655, -6.84690309,\n",
              "        -6.85190954, -6.85662165, -6.86106252, -6.86525288, -6.86921144,\n",
              "        -6.8729551 , -6.87649916, -6.87985751, -6.8830428 , -6.88606654,\n",
              "        -6.88893926, -6.89167061, -6.89426941, -6.8967438 , -6.89910125,\n",
              "        -6.90134865, -6.90349236, -6.90553827, -6.90749183, -6.9093581 ,\n",
              "        -6.91114176, -6.9128472 , -6.91447848, -6.91603938, -6.91753346,\n",
              "        -6.91896402, -6.92033415, -6.92164677, -6.92290457, -6.92411013,\n",
              "        -6.92526583, -6.92637393, -6.92743656, -6.92845571, -6.92943327,\n",
              "        -6.93037102, -6.93127064, -6.93213372, -6.93296177, -6.9337562 ,\n",
              "        -6.93451837, -6.93524955, -6.93595095, -6.93662374, -6.93726899,\n",
              "        -6.93788776, -6.93848103, -6.93904974, -6.9395948 , -6.94011705,\n",
              "        -6.94061731, -6.94109635, -6.94155493, -6.94199374, -6.94241348,\n",
              "        -6.94281477, -6.94319825, -6.9435645 , -6.9439141 , -6.94424758,\n",
              "        -6.94456548, -6.94486828, -6.94515646, -6.94543049, -6.94569081,\n",
              "        -6.94593784, -6.94617199, -6.94639365, -6.94660319, -6.94680098,\n",
              "        -6.94698737, -6.94716268, -6.94732725, -6.94748139, -6.94762539,\n",
              "        -6.94775954, -6.94788412, -6.9479994 , -6.94810564, -6.94820308,\n",
              "        -6.94829198, -6.94837256, -6.94844504, -6.94850965, -6.9485666 ]),\n",
              " 'split9_test_score': array([-6.77142531, -6.77908425, -6.78130052, -6.78217608, -6.78254356,\n",
              "        -6.78267895, -6.78269826, -6.78265758, -6.7825866 , -6.78250202,\n",
              "        -6.78241355, -6.78232703, -6.78224591, -6.78217227, -6.78210726,\n",
              "        -6.78205147, -6.78200514, -6.78196826, -6.78194065, -6.78192206,\n",
              "        -6.78191216, -6.78191061, -6.78191705, -6.78193108, -6.78195236,\n",
              "        -6.78198051, -6.78201519, -6.78205607, -6.78210283, -6.78215516,\n",
              "        -6.78221277, -6.7822754 , -6.78234278, -6.78241467, -6.78249085,\n",
              "        -6.78257109, -6.78265519, -6.78274296, -6.78283421, -6.78292878,\n",
              "        -6.7830265 , -6.78312722, -6.78323079, -6.78333709, -6.78344597,\n",
              "        -6.78355733, -6.78367103, -6.78378698, -6.78390507, -6.78442069,\n",
              "        -6.78522284, -6.78600825, -6.78677759, -6.7875315 , -6.78827058,\n",
              "        -6.78899541, -6.78970653, -6.79040446, -6.79108969, -6.79176267,\n",
              "        -6.79242386, -6.79307368, -6.79371251, -6.79434076, -6.79495877,\n",
              "        -6.7955669 , -6.79616547, -6.7967548 , -6.7973352 , -6.79790695,\n",
              "        -6.79847033, -6.79902559, -6.799573  , -6.8001128 , -6.80064521,\n",
              "        -6.80117045, -6.80168875, -6.8022003 , -6.80270531, -6.80320395,\n",
              "        -6.8036964 , -6.80418286, -6.80466347, -6.8051384 , -6.8056078 ,\n",
              "        -6.80607183, -6.80653063, -6.80698433, -6.80743306, -6.80787696,\n",
              "        -6.80831615, -6.80875074, -6.80918086, -6.80960661, -6.8100281 ,\n",
              "        -6.81044543, -6.8108587 , -6.81126802, -6.81167346, -6.81207513]),\n",
              " 'std_fit_time': array([2.49998047e-04, 9.48150233e-04, 1.93475874e-03, 4.53793651e-04,\n",
              "        1.11756351e-03, 1.86215663e-03, 1.94800715e-04, 5.67721566e-04,\n",
              "        2.26409915e-04, 1.89673548e-04, 5.99470254e-04, 8.79219864e-04,\n",
              "        4.69256681e-04, 7.89337297e-04, 3.32624032e-04, 3.34223243e-04,\n",
              "        3.03585450e-04, 2.40374595e-04, 4.63752363e-04, 1.73274200e-03,\n",
              "        2.71979477e-04, 2.93352143e-04, 4.65464995e-04, 2.56103907e-04,\n",
              "        3.19513918e-04, 2.47120410e-04, 1.14775525e-03, 6.01411000e-04,\n",
              "        8.21412450e-04, 1.90586724e-04, 6.83796707e-04, 1.09655908e-03,\n",
              "        2.32233325e-04, 3.91400081e-04, 1.26580735e-03, 5.44916801e-04,\n",
              "        2.16246103e-04, 2.73848997e-04, 7.96695225e-04, 2.75646095e-04,\n",
              "        5.23969968e-04, 3.73474443e-04, 7.04172793e-04, 2.54458717e-04,\n",
              "        3.94813514e-04, 4.81477029e-04, 3.27825082e-04, 2.68254711e-04,\n",
              "        3.38034765e-04, 7.46563399e-04, 6.27034781e-04, 8.34175267e-04,\n",
              "        1.19521402e-04, 8.13104214e-04, 8.04750967e-05, 3.28141473e-04,\n",
              "        2.40581269e-04, 3.30655434e-04, 7.69553546e-04, 4.65183071e-04,\n",
              "        3.75310500e-04, 4.51106564e-04, 3.56868077e-04, 8.08883557e-04,\n",
              "        3.06694914e-04, 3.31195208e-04, 8.06399287e-04, 1.65198036e-04,\n",
              "        2.23948744e-04, 6.04587311e-04, 2.67475963e-04, 2.65471348e-04,\n",
              "        2.70874549e-04, 7.60895347e-04, 8.47895606e-04, 8.02972246e-04,\n",
              "        1.06688838e-03, 7.50140210e-04, 4.19603898e-04, 5.28212326e-04,\n",
              "        6.75006269e-04, 3.36103965e-04, 4.70236476e-04, 2.81193318e-04,\n",
              "        1.25190733e-03, 7.75429106e-04, 5.39213303e-04, 5.46743087e-04,\n",
              "        1.33980961e-03, 4.55990277e-04, 2.54605535e-04, 4.95032599e-04,\n",
              "        4.94420309e-04, 8.49503081e-04, 1.16533482e-04, 1.29296416e-03,\n",
              "        6.04172018e-04, 2.64992206e-04, 1.83136628e-04, 3.10398469e-04]),\n",
              " 'std_score_time': array([1.60703901e-04, 7.77341613e-04, 5.42302563e-04, 2.62715271e-04,\n",
              "        1.07852833e-03, 2.78839680e-03, 1.11907403e-04, 2.95886578e-04,\n",
              "        1.42466042e-04, 5.20517558e-05, 2.50043603e-04, 8.22374216e-05,\n",
              "        1.45076860e-03, 7.88675441e-04, 1.27263710e-04, 7.26457185e-05,\n",
              "        2.51162362e-04, 1.23142818e-04, 2.03196388e-04, 6.78439435e-04,\n",
              "        1.21013767e-04, 8.13126066e-05, 1.34753474e-04, 2.15019437e-04,\n",
              "        1.09678250e-04, 5.60993597e-05, 7.52390485e-04, 4.13157580e-04,\n",
              "        2.60439251e-04, 1.14555064e-04, 4.65259550e-04, 6.64464725e-04,\n",
              "        2.06237666e-04, 3.13525926e-04, 2.29869343e-04, 5.94850454e-04,\n",
              "        4.23067437e-05, 6.46177514e-05, 8.14290201e-04, 1.48829351e-04,\n",
              "        4.85447699e-04, 1.64450587e-04, 8.22022162e-04, 1.40693379e-04,\n",
              "        1.44371813e-04, 1.29207966e-04, 1.44141573e-04, 8.45687067e-05,\n",
              "        2.03540203e-04, 1.86014849e-04, 5.53225293e-04, 5.71893827e-04,\n",
              "        4.88918557e-05, 9.96222456e-04, 2.65828056e-05, 1.33473614e-04,\n",
              "        2.02219326e-04, 1.32549915e-04, 9.81806621e-04, 2.15263973e-04,\n",
              "        9.13910413e-05, 2.54338952e-04, 1.20799059e-04, 5.81182714e-04,\n",
              "        1.68682174e-04, 1.03195650e-04, 1.34462707e-03, 9.13321052e-05,\n",
              "        7.36775172e-05, 4.15356602e-04, 1.06396307e-04, 5.27966175e-04,\n",
              "        7.34467192e-05, 1.06856441e-04, 4.28795764e-04, 6.33213031e-04,\n",
              "        9.36538472e-04, 3.00923083e-04, 2.08355310e-04, 1.52455140e-04,\n",
              "        3.62069404e-04, 3.46415599e-04, 3.03403034e-04, 1.23753990e-04,\n",
              "        2.29892876e-03, 1.31849239e-03, 3.09626902e-04, 4.71760963e-04,\n",
              "        6.58627630e-04, 4.58205855e-04, 1.54858100e-04, 1.21075849e-04,\n",
              "        4.55886576e-04, 4.08817214e-04, 6.76546947e-05, 1.82945734e-03,\n",
              "        6.72867812e-04, 1.61400132e-04, 2.08147612e-05, 7.73244199e-05]),\n",
              " 'std_test_score': array([0.81537266, 0.81744724, 0.81749465, 0.81719042, 0.81688408,\n",
              "        0.81789869, 0.81908398, 0.82019528, 0.82118103, 0.82171609,\n",
              "        0.82230321, 0.82288978, 0.82345978, 0.82401398, 0.8245521 ,\n",
              "        0.82506101, 0.82540932, 0.8257407 , 0.82606694, 0.82638669,\n",
              "        0.8266856 , 0.82695963, 0.82722963, 0.82749541, 0.82775686,\n",
              "        0.82801389, 0.82826645, 0.82851453, 0.82875812, 0.82899725,\n",
              "        0.82923196, 0.82946229, 0.82968831, 0.82991008, 0.83012769,\n",
              "        0.83034121, 0.83055072, 0.83075632, 0.8309581 , 0.83115614,\n",
              "        0.83135053, 0.83154136, 0.83172873, 0.83191273, 0.83209343,\n",
              "        0.83227093, 0.83244532, 0.83261667, 0.83278506, 0.83295578,\n",
              "        0.83312741, 0.83329604, 0.83346176, 0.83362465, 0.8337848 ,\n",
              "        0.83394228, 0.83409718, 0.83424956, 0.8343995 , 0.83454707,\n",
              "        0.83469233, 0.83483535, 0.83497619, 0.83511492, 0.83525158,\n",
              "        0.83538624, 0.83551896, 0.83564978, 0.83577875, 0.83592747,\n",
              "        0.83612052, 0.83631048, 0.83649744, 0.8366815 , 0.83686272,\n",
              "        0.83704119, 0.83721698, 0.83739017, 0.83756083, 0.83772902,\n",
              "        0.83789482, 0.83805828, 0.83821947, 0.83837844, 0.83853525,\n",
              "        0.83868996, 0.83884262, 0.83899329, 0.839142  , 0.83928882,\n",
              "        0.83943378, 0.83957694, 0.83971833, 0.839858  , 0.83999598,\n",
              "        0.84013233, 0.84026707, 0.84040025, 0.8405319 , 0.84066205])}"
            ]
          },
          "metadata": {},
          "execution_count": 50
        }
      ]
    },
    {
      "cell_type": "code",
      "metadata": {
        "id": "J0ttpaVFt9j_"
      },
      "source": [
        "def report(results, n_top=3):\n",
        "    for i in range(1, n_top + 1):\n",
        "        candidates = np.flatnonzero(results['rank_test_score'] == i)\n",
        "        for candidate in candidates:\n",
        "            print(\"Model with rank: {0}\".format(i))\n",
        "            print(\"Mean validation score: {0:.3f} (std: {1:.3f})\".format(\n",
        "                  results['mean_test_score'][candidate],\n",
        "                  results['std_test_score'][candidate]))\n",
        "            print(\"Parameters: {0}\".format(results['params'][candidate]))\n",
        "            print(\"\")"
      ],
      "execution_count": null,
      "outputs": []
    },
    {
      "cell_type": "code",
      "metadata": {
        "id": "UIKWUomLt9j_",
        "outputId": "16048f98-52c5-408d-b609-99c5325d5077",
        "colab": {
          "base_uri": "https://localhost:8080/"
        }
      },
      "source": [
        "report(grid_search.cv_results_,5)"
      ],
      "execution_count": null,
      "outputs": [
        {
          "output_type": "stream",
          "name": "stdout",
          "text": [
            "Model with rank: 1\n",
            "Mean validation score: -6.607 (std: 0.815)\n",
            "Parameters: {'alpha': 1.0}\n",
            "\n",
            "Model with rank: 2\n",
            "Mean validation score: -6.612 (std: 0.817)\n",
            "Parameters: {'alpha': 2.0}\n",
            "\n",
            "Model with rank: 3\n",
            "Mean validation score: -6.613 (std: 0.817)\n",
            "Parameters: {'alpha': 3.0}\n",
            "\n",
            "Model with rank: 4\n",
            "Mean validation score: -6.614 (std: 0.817)\n",
            "Parameters: {'alpha': 4.0}\n",
            "\n",
            "Model with rank: 5\n",
            "Mean validation score: -6.614 (std: 0.817)\n",
            "Parameters: {'alpha': 5.0}\n",
            "\n"
          ]
        }
      ]
    },
    {
      "cell_type": "code",
      "metadata": {
        "id": "HptWgmtrt9j_"
      },
      "source": [
        "ridge_model=grid_search.best_estimator_"
      ],
      "execution_count": null,
      "outputs": []
    },
    {
      "cell_type": "code",
      "metadata": {
        "id": "4YZNAjL3t9kA",
        "outputId": "13f3a58e-187a-4a9b-9b45-0bf5022d0bf1",
        "colab": {
          "base_uri": "https://localhost:8080/"
        }
      },
      "source": [
        "ridge_model.fit(x_train,y_train)"
      ],
      "execution_count": null,
      "outputs": [
        {
          "output_type": "execute_result",
          "data": {
            "text/plain": [
              "Ridge()"
            ]
          },
          "metadata": {},
          "execution_count": 54
        }
      ]
    },
    {
      "cell_type": "code",
      "metadata": {
        "id": "WatkySrqt9kA",
        "outputId": "d19467f0-9a81-4f29-ccb8-b92b5ddb614b",
        "colab": {
          "base_uri": "https://localhost:8080/"
        }
      },
      "source": [
        "list(zip(x_train.columns,ridge_model.coef_))"
      ],
      "execution_count": null,
      "outputs": [
        {
          "output_type": "execute_result",
          "data": {
            "text/plain": [
              "[('X1 transaction date',\n",
              "  array([ 5.80820485e+00, -2.59885664e-01, -5.71902941e-03,  1.11348654e+00,\n",
              "          6.84001702e+00, -6.58644805e-01]))]"
            ]
          },
          "metadata": {},
          "execution_count": 55
        }
      ]
    },
    {
      "cell_type": "markdown",
      "metadata": {
        "id": "RApo4Rj1t9kA"
      },
      "source": [
        "## Lasso"
      ]
    },
    {
      "cell_type": "code",
      "metadata": {
        "id": "hv26FDbct9kA"
      },
      "source": [
        "lambdas=np.linspace(1,10,100)\n",
        "model=Lasso(fit_intercept=True)\n",
        "params={'alpha':lambdas}"
      ],
      "execution_count": null,
      "outputs": []
    },
    {
      "cell_type": "code",
      "metadata": {
        "id": "OYLk1Vm4t9kA"
      },
      "source": [
        "grid_search=GridSearchCV(model,param_grid=params,cv=10,scoring='neg_mean_absolute_error')"
      ],
      "execution_count": null,
      "outputs": []
    },
    {
      "cell_type": "code",
      "metadata": {
        "id": "Q7N4_I2zt9kA",
        "outputId": "557cc54d-b0fa-4f27-9dbe-4ae71d92548b",
        "colab": {
          "base_uri": "https://localhost:8080/"
        }
      },
      "source": [
        "grid_search.fit(x_train,y_train)"
      ],
      "execution_count": null,
      "outputs": [
        {
          "output_type": "execute_result",
          "data": {
            "text/plain": [
              "GridSearchCV(cv=10, estimator=Lasso(),\n",
              "             param_grid={'alpha': array([ 1.        ,  1.09090909,  1.18181818,  1.27272727,  1.36363636,\n",
              "        1.45454545,  1.54545455,  1.63636364,  1.72727273,  1.81818182,\n",
              "        1.90909091,  2.        ,  2.09090909,  2.18181818,  2.27272727,\n",
              "        2.36363636,  2.45454545,  2.54545455,  2.63636364,  2.72727273,\n",
              "        2.81818182,  2.90909091,  3.        ,  3.09090909,  3.18181818,\n",
              "        3.27272727,  3.36363636,  3.45454545,  3....\n",
              "        6.90909091,  7.        ,  7.09090909,  7.18181818,  7.27272727,\n",
              "        7.36363636,  7.45454545,  7.54545455,  7.63636364,  7.72727273,\n",
              "        7.81818182,  7.90909091,  8.        ,  8.09090909,  8.18181818,\n",
              "        8.27272727,  8.36363636,  8.45454545,  8.54545455,  8.63636364,\n",
              "        8.72727273,  8.81818182,  8.90909091,  9.        ,  9.09090909,\n",
              "        9.18181818,  9.27272727,  9.36363636,  9.45454545,  9.54545455,\n",
              "        9.63636364,  9.72727273,  9.81818182,  9.90909091, 10.        ])},\n",
              "             scoring='neg_mean_absolute_error')"
            ]
          },
          "metadata": {},
          "execution_count": 58
        }
      ]
    },
    {
      "cell_type": "code",
      "metadata": {
        "id": "KZ37qpl-t9kB",
        "outputId": "1ce6d6db-6ca1-4842-c74f-a384d2fc85a0",
        "colab": {
          "base_uri": "https://localhost:8080/"
        }
      },
      "source": [
        "grid_search.best_estimator_"
      ],
      "execution_count": null,
      "outputs": [
        {
          "output_type": "execute_result",
          "data": {
            "text/plain": [
              "Lasso()"
            ]
          },
          "metadata": {},
          "execution_count": 59
        }
      ]
    },
    {
      "cell_type": "code",
      "metadata": {
        "id": "-SyAsfnYt9kB",
        "outputId": "1d9cadc9-fe34-46e3-aebb-0f521e14fc6a",
        "colab": {
          "base_uri": "https://localhost:8080/"
        }
      },
      "source": [
        "report(grid_search.cv_results_,5)"
      ],
      "execution_count": null,
      "outputs": [
        {
          "output_type": "stream",
          "name": "stdout",
          "text": [
            "Model with rank: 1\n",
            "Mean validation score: -6.734 (std: 0.855)\n",
            "Parameters: {'alpha': 1.0}\n",
            "\n",
            "Model with rank: 2\n",
            "Mean validation score: -6.734 (std: 0.856)\n",
            "Parameters: {'alpha': 1.0909090909090908}\n",
            "\n",
            "Model with rank: 3\n",
            "Mean validation score: -6.734 (std: 0.857)\n",
            "Parameters: {'alpha': 1.1818181818181819}\n",
            "\n",
            "Model with rank: 4\n",
            "Mean validation score: -6.735 (std: 0.857)\n",
            "Parameters: {'alpha': 1.2727272727272727}\n",
            "\n",
            "Model with rank: 5\n",
            "Mean validation score: -6.735 (std: 0.858)\n",
            "Parameters: {'alpha': 1.3636363636363638}\n",
            "\n"
          ]
        }
      ]
    },
    {
      "cell_type": "code",
      "metadata": {
        "id": "tNIGYjMRt9kB",
        "outputId": "b25af7ee-1f6b-43cd-f304-4b7053202c7e",
        "colab": {
          "base_uri": "https://localhost:8080/"
        }
      },
      "source": [
        "lasso_model=grid_search.best_estimator_\n",
        "lasso_model.fit(x_train,y_train)\n",
        "list(zip(x_train.columns,lasso_model.coef_))"
      ],
      "execution_count": null,
      "outputs": [
        {
          "output_type": "execute_result",
          "data": {
            "text/plain": [
              "[('X1 transaction date', 0.0),\n",
              " ('X2 house age', -0.2551733159363363),\n",
              " ('X3 distance to the nearest MRT station', -0.005862987130324283),\n",
              " ('X4 number of convenience stores', 0.9638358559805829),\n",
              " ('X5 latitude', 0.0),\n",
              " ('X6 longitude', -0.0)]"
            ]
          },
          "metadata": {},
          "execution_count": 61
        }
      ]
    },
    {
      "cell_type": "code",
      "metadata": {
        "id": "bA_E33ZCt9kB"
      },
      "source": [],
      "execution_count": null,
      "outputs": []
    },
    {
      "cell_type": "markdown",
      "source": [
        "## ElasticNet"
      ],
      "metadata": {
        "id": "J27Vn3KybR-u"
      }
    },
    {
      "cell_type": "code",
      "source": [
        "from sklearn import metrics\n",
        "from sklearn.model_selection import cross_val_score\n",
        "\n",
        "def cross_val(model):\n",
        "    pred = cross_val_score(model, X, y, cv=10)\n",
        "    return pred.mean()\n",
        "\n",
        "def print_evaluate(true, predicted):  \n",
        "    mae = metrics.mean_absolute_error(true, predicted)\n",
        "    mse = metrics.mean_squared_error(true, predicted)\n",
        "    rmse = np.sqrt(metrics.mean_squared_error(true, predicted))\n",
        "    r2_square = metrics.r2_score(true, predicted)\n",
        "    print('MAE:', mae)\n",
        "    print('MSE:', mse)\n",
        "    print('RMSE:', rmse)\n",
        "    print('R2 Square', r2_square)\n",
        "    print('__________________________________')\n",
        "    \n",
        "def evaluate(true, predicted):\n",
        "    mae = metrics.mean_absolute_error(true, predicted)\n",
        "    mse = metrics.mean_squared_error(true, predicted)\n",
        "    rmse = np.sqrt(metrics.mean_squared_error(true, predicted))\n",
        "    r2_square = metrics.r2_score(true, predicted)\n",
        "    return mae, mse, rmse, r2_square"
      ],
      "metadata": {
        "id": "d6hAxchBeLy4"
      },
      "execution_count": null,
      "outputs": []
    },
    {
      "cell_type": "code",
      "source": [
        "from sklearn.linear_model import ElasticNet\n",
        "\n",
        "model = ElasticNet(alpha=0.1, l1_ratio=0.9, selection='random', random_state=42)\n",
        "model.fit(x_train, y_train)\n",
        "\n",
        "test_pred = model.predict(x_test)\n",
        "train_pred = model.predict(x_train)\n",
        "\n",
        "print('Test set evaluation:\\n_____________________________________')\n",
        "print_evaluate(y_test, test_pred)\n",
        "print('====================================')\n",
        "print('Train set evaluation:\\n_____________________________________')\n",
        "print_evaluate(y_train, train_pred)"
      ],
      "metadata": {
        "colab": {
          "base_uri": "https://localhost:8080/"
        },
        "id": "qQE7yx9zbaL1",
        "outputId": "807685b5-415d-4ace-dcf6-d1c015df41f2"
      },
      "execution_count": null,
      "outputs": [
        {
          "output_type": "stream",
          "name": "stdout",
          "text": [
            "Test set evaluation:\n",
            "_____________________________________\n",
            "MAE: 6.281083816555603\n",
            "MSE: 75.48117075638945\n",
            "RMSE: 8.687990029712825\n",
            "R2 Square 0.5570983456178773\n",
            "__________________________________\n",
            "====================================\n",
            "Train set evaluation:\n",
            "_____________________________________\n",
            "MAE: 6.536963801694876\n",
            "MSE: 85.71904934615095\n",
            "RMSE: 9.258458259675363\n",
            "R2 Square 0.5499050172248117\n",
            "__________________________________\n"
          ]
        }
      ]
    },
    {
      "cell_type": "code",
      "source": [],
      "metadata": {
        "id": "xdaER7BobeSG"
      },
      "execution_count": null,
      "outputs": []
    },
    {
      "cell_type": "code",
      "source": [],
      "metadata": {
        "id": "c0tred-Tee0v"
      },
      "execution_count": null,
      "outputs": []
    },
    {
      "cell_type": "markdown",
      "source": [
        "## polynomial regression "
      ],
      "metadata": {
        "id": "iiywTXoiefaw"
      }
    },
    {
      "cell_type": "code",
      "source": [
        "from sklearn.preprocessing import PolynomialFeatures\n",
        "\n",
        "poly_reg = PolynomialFeatures(degree=2)\n",
        "\n",
        "x_train_2_d = poly_reg.fit_transform(x_train)\n",
        "x_test_2_d = poly_reg.transform(x_test)\n",
        "\n",
        "lin_reg = LinearRegression(normalize=True)\n",
        "lin_reg.fit(x_train_2_d,y_train)\n",
        "\n",
        "test_pred = lin_reg.predict(x_test_2_d)\n",
        "train_pred = lin_reg.predict(x_train_2_d)\n",
        "\n",
        "print('Test set evaluation:\\n_____________________________________')\n",
        "print_evaluate(y_test, test_pred)\n",
        "print('====================================')\n",
        "print('Train set evaluation:\\n_____________________________________')\n",
        "print_evaluate(y_train, train_pred)"
      ],
      "metadata": {
        "colab": {
          "base_uri": "https://localhost:8080/"
        },
        "id": "ydpm3bUZeh_-",
        "outputId": "72ab2ff7-52b9-46a6-89cb-7feb0c956a5f"
      },
      "execution_count": null,
      "outputs": [
        {
          "output_type": "stream",
          "name": "stdout",
          "text": [
            "Test set evaluation:\n",
            "_____________________________________\n",
            "MAE: 7.662400000000001\n",
            "MSE: 114.06591999999998\n",
            "RMSE: 10.680164792736111\n",
            "R2 Square 0.33069420929268845\n",
            "__________________________________\n",
            "====================================\n",
            "Train set evaluation:\n",
            "_____________________________________\n",
            "MAE: 7.054325259515571\n",
            "MSE: 96.65311418685121\n",
            "RMSE: 9.831231570197664\n",
            "R2 Square 0.49249225117482553\n",
            "__________________________________\n"
          ]
        },
        {
          "output_type": "stream",
          "name": "stderr",
          "text": [
            "/usr/local/lib/python3.7/dist-packages/sklearn/linear_model/_base.py:145: FutureWarning: 'normalize' was deprecated in version 1.0 and will be removed in 1.2.\n",
            "If you wish to scale the data, use Pipeline with a StandardScaler in a preprocessing stage. To reproduce the previous behavior:\n",
            "\n",
            "from sklearn.pipeline import make_pipeline\n",
            "\n",
            "model = make_pipeline(StandardScaler(with_mean=False), LinearRegression())\n",
            "\n",
            "If you wish to pass a sample_weight parameter, you need to pass it as a fit parameter to each step of the pipeline as follows:\n",
            "\n",
            "kwargs = {s[0] + '__sample_weight': sample_weight for s in model.steps}\n",
            "model.fit(X, y, **kwargs)\n",
            "\n",
            "\n",
            "  FutureWarning,\n"
          ]
        }
      ]
    },
    {
      "cell_type": "code",
      "source": [],
      "metadata": {
        "id": "wprBmc-meijV"
      },
      "execution_count": null,
      "outputs": []
    }
  ]
}